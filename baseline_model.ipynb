{
 "cells": [
  {
   "cell_type": "code",
   "execution_count": 30,
   "id": "791fed3c-efa7-496c-a5bc-80f05d60d083",
   "metadata": {
    "tags": []
   },
   "outputs": [],
   "source": [
    "import pandas as pd\n",
    "import numpy as np\n",
    "from sklearn.linear_model import LinearRegression\n",
    "from sklearn.model_selection import train_test_split\n"
   ]
  },
  {
   "cell_type": "markdown",
   "id": "b2db9526-0d15-4036-b276-a4d36650b3e2",
   "metadata": {
    "tags": []
   },
   "source": [
    "### Temprorary solution\n",
    "pull the train and test data from csv"
   ]
  },
  {
   "cell_type": "code",
   "execution_count": 62,
   "id": "2da2f641-47e7-4615-84ba-2abdddfed049",
   "metadata": {
    "tags": []
   },
   "outputs": [],
   "source": [
    "# X_train = pd.read_csv('./data/X_train.csv', encoding='utf-8')\n",
    "# y_train = pd.read_csv('./data/y_train.csv', encoding='utf-8')\n",
    "df_train = pd.read_csv('./data/df_train.csv', encoding='utf-8')"
   ]
  },
  {
   "cell_type": "code",
   "execution_count": 63,
   "id": "3f90ca5f-c618-40e5-b9bf-f2c361a9c312",
   "metadata": {
    "tags": []
   },
   "outputs": [
    {
     "data": {
      "text/plain": [
       "Index(['Unnamed: 0', 'Place_ID X Date', 'Date', 'Place_ID', 'target_min',\n",
       "       'target_max', 'target_variance', 'target_count',\n",
       "       'precipitable_water_entire_atmosphere',\n",
       "       'relative_humidity_2m_above_ground',\n",
       "       'specific_humidity_2m_above_ground', 'temperature_2m_above_ground',\n",
       "       'u_component_of_wind_10m_above_ground',\n",
       "       'v_component_of_wind_10m_above_ground',\n",
       "       'L3_NO2_NO2_column_number_density',\n",
       "       'L3_NO2_NO2_slant_column_number_density',\n",
       "       'L3_NO2_absorbing_aerosol_index', 'L3_NO2_cloud_fraction',\n",
       "       'L3_NO2_sensor_altitude', 'L3_NO2_sensor_azimuth_angle',\n",
       "       'L3_NO2_sensor_zenith_angle', 'L3_NO2_solar_azimuth_angle',\n",
       "       'L3_NO2_solar_zenith_angle',\n",
       "       'L3_NO2_stratospheric_NO2_column_number_density',\n",
       "       'L3_NO2_tropopause_pressure',\n",
       "       'L3_NO2_tropospheric_NO2_column_number_density',\n",
       "       'L3_O3_O3_column_number_density', 'L3_O3_O3_effective_temperature',\n",
       "       'L3_O3_cloud_fraction', 'L3_O3_sensor_azimuth_angle',\n",
       "       'L3_O3_sensor_zenith_angle', 'L3_O3_solar_azimuth_angle',\n",
       "       'L3_O3_solar_zenith_angle', 'L3_CO_CO_column_number_density',\n",
       "       'L3_CO_H2O_column_number_density', 'L3_CO_cloud_height',\n",
       "       'L3_CO_sensor_altitude', 'L3_CO_sensor_azimuth_angle',\n",
       "       'L3_CO_sensor_zenith_angle', 'L3_CO_solar_azimuth_angle',\n",
       "       'L3_CO_solar_zenith_angle', 'L3_HCHO_HCHO_slant_column_number_density',\n",
       "       'L3_HCHO_cloud_fraction', 'L3_HCHO_sensor_azimuth_angle',\n",
       "       'L3_HCHO_sensor_zenith_angle', 'L3_HCHO_solar_azimuth_angle',\n",
       "       'L3_HCHO_solar_zenith_angle',\n",
       "       'L3_HCHO_tropospheric_HCHO_column_number_density',\n",
       "       'L3_HCHO_tropospheric_HCHO_column_number_density_amf',\n",
       "       'L3_CLOUD_cloud_base_height', 'L3_CLOUD_cloud_base_pressure',\n",
       "       'L3_CLOUD_cloud_fraction', 'L3_CLOUD_cloud_optical_depth',\n",
       "       'L3_CLOUD_cloud_top_height', 'L3_CLOUD_cloud_top_pressure',\n",
       "       'L3_CLOUD_sensor_azimuth_angle', 'L3_CLOUD_sensor_zenith_angle',\n",
       "       'L3_CLOUD_solar_azimuth_angle', 'L3_CLOUD_solar_zenith_angle',\n",
       "       'L3_CLOUD_surface_albedo', 'L3_AER_AI_absorbing_aerosol_index',\n",
       "       'L3_AER_AI_sensor_altitude', 'L3_AER_AI_sensor_azimuth_angle',\n",
       "       'L3_AER_AI_sensor_zenith_angle', 'L3_AER_AI_solar_azimuth_angle',\n",
       "       'L3_AER_AI_solar_zenith_angle', 'L3_SO2_SO2_column_number_density',\n",
       "       'L3_SO2_SO2_column_number_density_amf',\n",
       "       'L3_SO2_SO2_slant_column_number_density',\n",
       "       'L3_SO2_absorbing_aerosol_index', 'L3_SO2_cloud_fraction',\n",
       "       'L3_SO2_sensor_azimuth_angle', 'L3_SO2_sensor_zenith_angle',\n",
       "       'L3_SO2_solar_azimuth_angle', 'L3_SO2_solar_zenith_angle',\n",
       "       'L3_CH4_CH4_column_volume_mixing_ratio_dry_air',\n",
       "       'L3_CH4_aerosol_height', 'L3_CH4_aerosol_optical_depth',\n",
       "       'L3_CH4_sensor_azimuth_angle', 'L3_CH4_sensor_zenith_angle',\n",
       "       'L3_CH4_solar_azimuth_angle', 'L3_CH4_solar_zenith_angle', 'target',\n",
       "       'ordinal_date', 'wind_speed'],\n",
       "      dtype='object')"
      ]
     },
     "execution_count": 63,
     "metadata": {},
     "output_type": "execute_result"
    }
   ],
   "source": [
    "df_train.columns"
   ]
  },
  {
   "cell_type": "markdown",
   "id": "ed566cf4-8037-47b3-b0be-72a8742189c0",
   "metadata": {
    "tags": []
   },
   "source": [
    "### Log-transform the skewed features"
   ]
  },
  {
   "cell_type": "code",
   "execution_count": 64,
   "id": "fdb0a4c3-0b55-4b95-bba5-2faabb458622",
   "metadata": {
    "tags": []
   },
   "outputs": [],
   "source": [
    "# Log-transform the skewed features ['capital-gain', 'capital-loss']\n",
    "skewed_col_names = [\n",
    "'L3_CLOUD_cloud_optical_depth',\n",
    "'L3_SO2_SO2_column_number_density_amf',\n",
    "'target',\n",
    "'L3_O3_O3_effective_temperature',\n",
    "'L3_NO2_NO2_slant_column_number_density',\n",
    "'L3_O3_O3_column_number_density',\n",
    "'wind_speed',\n",
    "'L3_NO2_tropospheric_NO2_column_number_density',\n",
    "'L3_NO2_NO2_column_number_density',\n",
    "'L3_CO_H2O_column_number_density',\n",
    "'L3_CLOUD_cloud_base_height',\n",
    "'L3_CLOUD_surface_albedo',\n",
    "'L3_HCHO_tropospheric_HCHO_column_number_density_amf',\n",
    "'L3_CO_CO_column_number_density',\n",
    "'specific_humidity_2m_above_ground',\n",
    "'L3_CLOUD_cloud_top_height'\n",
    "]\n",
    "skewed = df_train[skewed_col_names]\n",
    "skewed = skewed.apply(lambda x: np.log(x + 1))"
   ]
  },
  {
   "cell_type": "code",
   "execution_count": 65,
   "id": "bf0f19b5-c9b2-4a05-89f8-ef8be5ca7245",
   "metadata": {
    "tags": []
   },
   "outputs": [
    {
     "data": {
      "text/html": [
       "<div>\n",
       "<style scoped>\n",
       "    .dataframe tbody tr th:only-of-type {\n",
       "        vertical-align: middle;\n",
       "    }\n",
       "\n",
       "    .dataframe tbody tr th {\n",
       "        vertical-align: top;\n",
       "    }\n",
       "\n",
       "    .dataframe thead th {\n",
       "        text-align: right;\n",
       "    }\n",
       "</style>\n",
       "<table border=\"1\" class=\"dataframe\">\n",
       "  <thead>\n",
       "    <tr style=\"text-align: right;\">\n",
       "      <th></th>\n",
       "      <th>L3_CLOUD_cloud_optical_depth</th>\n",
       "      <th>L3_SO2_SO2_column_number_density_amf</th>\n",
       "      <th>target</th>\n",
       "      <th>L3_O3_O3_effective_temperature</th>\n",
       "      <th>L3_NO2_NO2_slant_column_number_density</th>\n",
       "      <th>L3_O3_O3_column_number_density</th>\n",
       "      <th>wind_speed</th>\n",
       "      <th>L3_NO2_tropospheric_NO2_column_number_density</th>\n",
       "      <th>L3_NO2_NO2_column_number_density</th>\n",
       "      <th>L3_CO_H2O_column_number_density</th>\n",
       "      <th>L3_CLOUD_cloud_base_height</th>\n",
       "      <th>L3_CLOUD_surface_albedo</th>\n",
       "      <th>L3_HCHO_tropospheric_HCHO_column_number_density_amf</th>\n",
       "      <th>L3_CO_CO_column_number_density</th>\n",
       "      <th>specific_humidity_2m_above_ground</th>\n",
       "      <th>L3_CLOUD_cloud_top_height</th>\n",
       "    </tr>\n",
       "  </thead>\n",
       "  <tbody>\n",
       "    <tr>\n",
       "      <th>0</th>\n",
       "      <td>1.865334</td>\n",
       "      <td>0.285908</td>\n",
       "      <td>3.135494</td>\n",
       "      <td>5.455122</td>\n",
       "      <td>0.000134</td>\n",
       "      <td>0.112234</td>\n",
       "      <td>1.119645</td>\n",
       "      <td>0.000012</td>\n",
       "      <td>0.000065</td>\n",
       "      <td>8.034124</td>\n",
       "      <td>8.948368</td>\n",
       "      <td>0.180741</td>\n",
       "      <td>0.505092</td>\n",
       "      <td>0.016329</td>\n",
       "      <td>0.006558</td>\n",
       "      <td>9.070541</td>\n",
       "    </tr>\n",
       "    <tr>\n",
       "      <th>1</th>\n",
       "      <td>3.583859</td>\n",
       "      <td>0.333327</td>\n",
       "      <td>2.944439</td>\n",
       "      <td>5.425378</td>\n",
       "      <td>0.000185</td>\n",
       "      <td>0.172816</td>\n",
       "      <td>1.561834</td>\n",
       "      <td>0.000012</td>\n",
       "      <td>0.000045</td>\n",
       "      <td>5.353017</td>\n",
       "      <td>6.849565</td>\n",
       "      <td>0.216695</td>\n",
       "      <td>1.004796</td>\n",
       "      <td>0.036928</td>\n",
       "      <td>0.001814</td>\n",
       "      <td>7.222741</td>\n",
       "    </tr>\n",
       "    <tr>\n",
       "      <th>2</th>\n",
       "      <td>1.739349</td>\n",
       "      <td>0.195297</td>\n",
       "      <td>2.890372</td>\n",
       "      <td>5.425894</td>\n",
       "      <td>0.000176</td>\n",
       "      <td>0.127077</td>\n",
       "      <td>0.348379</td>\n",
       "      <td>0.000043</td>\n",
       "      <td>0.000078</td>\n",
       "      <td>6.588309</td>\n",
       "      <td>5.821143</td>\n",
       "      <td>0.166565</td>\n",
       "      <td>0.509481</td>\n",
       "      <td>0.031338</td>\n",
       "      <td>0.009576</td>\n",
       "      <td>6.097311</td>\n",
       "    </tr>\n",
       "    <tr>\n",
       "      <th>3</th>\n",
       "      <td>2.372149</td>\n",
       "      <td>0.378157</td>\n",
       "      <td>4.158883</td>\n",
       "      <td>5.443477</td>\n",
       "      <td>0.000152</td>\n",
       "      <td>0.172873</td>\n",
       "      <td>1.748766</td>\n",
       "      <td>0.000010</td>\n",
       "      <td>0.000053</td>\n",
       "      <td>5.979054</td>\n",
       "      <td>7.713047</td>\n",
       "      <td>0.131409</td>\n",
       "      <td>0.753534</td>\n",
       "      <td>0.039562</td>\n",
       "      <td>0.002691</td>\n",
       "      <td>8.082510</td>\n",
       "    </tr>\n",
       "    <tr>\n",
       "      <th>4</th>\n",
       "      <td>2.452061</td>\n",
       "      <td>0.235256</td>\n",
       "      <td>2.833213</td>\n",
       "      <td>5.429753</td>\n",
       "      <td>0.000140</td>\n",
       "      <td>0.135691</td>\n",
       "      <td>1.372964</td>\n",
       "      <td>0.000023</td>\n",
       "      <td>0.000079</td>\n",
       "      <td>6.537463</td>\n",
       "      <td>8.268890</td>\n",
       "      <td>0.235132</td>\n",
       "      <td>0.657351</td>\n",
       "      <td>0.034223</td>\n",
       "      <td>0.007381</td>\n",
       "      <td>8.497117</td>\n",
       "    </tr>\n",
       "  </tbody>\n",
       "</table>\n",
       "</div>"
      ],
      "text/plain": [
       "   L3_CLOUD_cloud_optical_depth  L3_SO2_SO2_column_number_density_amf  \\\n",
       "0                      1.865334                              0.285908   \n",
       "1                      3.583859                              0.333327   \n",
       "2                      1.739349                              0.195297   \n",
       "3                      2.372149                              0.378157   \n",
       "4                      2.452061                              0.235256   \n",
       "\n",
       "     target  L3_O3_O3_effective_temperature  \\\n",
       "0  3.135494                        5.455122   \n",
       "1  2.944439                        5.425378   \n",
       "2  2.890372                        5.425894   \n",
       "3  4.158883                        5.443477   \n",
       "4  2.833213                        5.429753   \n",
       "\n",
       "   L3_NO2_NO2_slant_column_number_density  L3_O3_O3_column_number_density  \\\n",
       "0                                0.000134                        0.112234   \n",
       "1                                0.000185                        0.172816   \n",
       "2                                0.000176                        0.127077   \n",
       "3                                0.000152                        0.172873   \n",
       "4                                0.000140                        0.135691   \n",
       "\n",
       "   wind_speed  L3_NO2_tropospheric_NO2_column_number_density  \\\n",
       "0    1.119645                                       0.000012   \n",
       "1    1.561834                                       0.000012   \n",
       "2    0.348379                                       0.000043   \n",
       "3    1.748766                                       0.000010   \n",
       "4    1.372964                                       0.000023   \n",
       "\n",
       "   L3_NO2_NO2_column_number_density  L3_CO_H2O_column_number_density  \\\n",
       "0                          0.000065                         8.034124   \n",
       "1                          0.000045                         5.353017   \n",
       "2                          0.000078                         6.588309   \n",
       "3                          0.000053                         5.979054   \n",
       "4                          0.000079                         6.537463   \n",
       "\n",
       "   L3_CLOUD_cloud_base_height  L3_CLOUD_surface_albedo  \\\n",
       "0                    8.948368                 0.180741   \n",
       "1                    6.849565                 0.216695   \n",
       "2                    5.821143                 0.166565   \n",
       "3                    7.713047                 0.131409   \n",
       "4                    8.268890                 0.235132   \n",
       "\n",
       "   L3_HCHO_tropospheric_HCHO_column_number_density_amf  \\\n",
       "0                                           0.505092     \n",
       "1                                           1.004796     \n",
       "2                                           0.509481     \n",
       "3                                           0.753534     \n",
       "4                                           0.657351     \n",
       "\n",
       "   L3_CO_CO_column_number_density  specific_humidity_2m_above_ground  \\\n",
       "0                        0.016329                           0.006558   \n",
       "1                        0.036928                           0.001814   \n",
       "2                        0.031338                           0.009576   \n",
       "3                        0.039562                           0.002691   \n",
       "4                        0.034223                           0.007381   \n",
       "\n",
       "   L3_CLOUD_cloud_top_height  \n",
       "0                   9.070541  \n",
       "1                   7.222741  \n",
       "2                   6.097311  \n",
       "3                   8.082510  \n",
       "4                   8.497117  "
      ]
     },
     "execution_count": 65,
     "metadata": {},
     "output_type": "execute_result"
    }
   ],
   "source": [
    "skewed.head()"
   ]
  },
  {
   "cell_type": "markdown",
   "id": "889b36c3-27b2-4f86-95b3-73354fe88e35",
   "metadata": {},
   "source": [
    "### Merge the log_transformed columns back to the df_train"
   ]
  },
  {
   "cell_type": "code",
   "execution_count": 66,
   "id": "788eb19e-b965-44aa-9830-6b67c4225525",
   "metadata": {
    "tags": []
   },
   "outputs": [],
   "source": [
    "df_train_log_transormed = pd.concat([skewed, df_train[[col for col in df_train.columns if col not in skewed]]], axis=1)"
   ]
  },
  {
   "cell_type": "markdown",
   "id": "be1ad443-fcbf-4963-a10b-8b52ce9f3aab",
   "metadata": {},
   "source": [
    "### Dropped all rows with null values\n",
    "because it is going to be a baseline, we dropped them for the initial round"
   ]
  },
  {
   "cell_type": "code",
   "execution_count": 67,
   "id": "a79d279c-3cdc-4d91-bc4e-2ac5474f6848",
   "metadata": {
    "tags": []
   },
   "outputs": [],
   "source": [
    "df_train_log_transormed = df_train_log_transormed.dropna()"
   ]
  },
  {
   "cell_type": "code",
   "execution_count": 68,
   "id": "94ff88f2-9be2-4680-82c1-4b1c7dd45d25",
   "metadata": {
    "tags": []
   },
   "outputs": [
    {
     "data": {
      "text/plain": [
       "(2720, 85)"
      ]
     },
     "execution_count": 68,
     "metadata": {},
     "output_type": "execute_result"
    }
   ],
   "source": [
    "df_train_log_transormed.shape"
   ]
  },
  {
   "cell_type": "code",
   "execution_count": 69,
   "id": "850bf988-a190-4b1b-83c3-4bfa1757c96e",
   "metadata": {
    "tags": []
   },
   "outputs": [],
   "source": [
    "### convert date to "
   ]
  },
  {
   "cell_type": "code",
   "execution_count": null,
   "id": "6800f156-2226-499c-8520-0c45fd046501",
   "metadata": {
    "tags": []
   },
   "outputs": [],
   "source": []
  },
  {
   "cell_type": "markdown",
   "id": "1fe25461-36ed-45f2-8f04-b70263c86d96",
   "metadata": {
    "tags": []
   },
   "source": [
    "### split the data"
   ]
  },
  {
   "cell_type": "code",
   "execution_count": 70,
   "id": "d416d8ce-848e-4bbd-875b-6e3e5bababb0",
   "metadata": {
    "tags": []
   },
   "outputs": [],
   "source": [
    "X = df_train_log_transormed.drop(['target','Place_ID X Date','Date','Place_ID'], axis=1)\n",
    "y = df_train_log_transormed['target']\n",
    "\n",
    "X_train, X_test, y_train, y_test = train_test_split(X, y, test_size=0.3, shuffle=True, random_state= 42)"
   ]
  },
  {
   "cell_type": "code",
   "execution_count": 71,
   "id": "a8c22ea6-b1b8-4d15-a816-3f848e921de0",
   "metadata": {
    "tags": []
   },
   "outputs": [
    {
     "data": {
      "text/html": [
       "<div>\n",
       "<style scoped>\n",
       "    .dataframe tbody tr th:only-of-type {\n",
       "        vertical-align: middle;\n",
       "    }\n",
       "\n",
       "    .dataframe tbody tr th {\n",
       "        vertical-align: top;\n",
       "    }\n",
       "\n",
       "    .dataframe thead th {\n",
       "        text-align: right;\n",
       "    }\n",
       "</style>\n",
       "<table border=\"1\" class=\"dataframe\">\n",
       "  <thead>\n",
       "    <tr style=\"text-align: right;\">\n",
       "      <th></th>\n",
       "      <th>L3_CLOUD_cloud_optical_depth</th>\n",
       "      <th>L3_SO2_SO2_column_number_density_amf</th>\n",
       "      <th>L3_O3_O3_effective_temperature</th>\n",
       "      <th>L3_NO2_NO2_slant_column_number_density</th>\n",
       "      <th>L3_O3_O3_column_number_density</th>\n",
       "      <th>wind_speed</th>\n",
       "      <th>L3_NO2_tropospheric_NO2_column_number_density</th>\n",
       "      <th>L3_NO2_NO2_column_number_density</th>\n",
       "      <th>L3_CO_H2O_column_number_density</th>\n",
       "      <th>L3_CLOUD_cloud_base_height</th>\n",
       "      <th>...</th>\n",
       "      <th>L3_SO2_solar_azimuth_angle</th>\n",
       "      <th>L3_SO2_solar_zenith_angle</th>\n",
       "      <th>L3_CH4_CH4_column_volume_mixing_ratio_dry_air</th>\n",
       "      <th>L3_CH4_aerosol_height</th>\n",
       "      <th>L3_CH4_aerosol_optical_depth</th>\n",
       "      <th>L3_CH4_sensor_azimuth_angle</th>\n",
       "      <th>L3_CH4_sensor_zenith_angle</th>\n",
       "      <th>L3_CH4_solar_azimuth_angle</th>\n",
       "      <th>L3_CH4_solar_zenith_angle</th>\n",
       "      <th>ordinal_date</th>\n",
       "    </tr>\n",
       "  </thead>\n",
       "  <tbody>\n",
       "    <tr>\n",
       "      <th>15704</th>\n",
       "      <td>4.445786</td>\n",
       "      <td>0.000000</td>\n",
       "      <td>0.000000</td>\n",
       "      <td>0.000000</td>\n",
       "      <td>0.000000</td>\n",
       "      <td>1.277455</td>\n",
       "      <td>0.000000</td>\n",
       "      <td>0.000000</td>\n",
       "      <td>0.000000</td>\n",
       "      <td>8.463041</td>\n",
       "      <td>...</td>\n",
       "      <td>0.000000</td>\n",
       "      <td>0.000000</td>\n",
       "      <td>0.000000</td>\n",
       "      <td>0.000000</td>\n",
       "      <td>0.000000</td>\n",
       "      <td>0.000000</td>\n",
       "      <td>0.000000</td>\n",
       "      <td>0.000000</td>\n",
       "      <td>0.000000</td>\n",
       "      <td>737518</td>\n",
       "    </tr>\n",
       "    <tr>\n",
       "      <th>6261</th>\n",
       "      <td>1.858340</td>\n",
       "      <td>0.283459</td>\n",
       "      <td>5.428212</td>\n",
       "      <td>0.000000</td>\n",
       "      <td>0.160343</td>\n",
       "      <td>0.726976</td>\n",
       "      <td>0.000000</td>\n",
       "      <td>0.000000</td>\n",
       "      <td>6.726555</td>\n",
       "      <td>6.333293</td>\n",
       "      <td>...</td>\n",
       "      <td>15.853008</td>\n",
       "      <td>44.894381</td>\n",
       "      <td>1868.758179</td>\n",
       "      <td>4503.353027</td>\n",
       "      <td>0.039820</td>\n",
       "      <td>58.781277</td>\n",
       "      <td>56.297928</td>\n",
       "      <td>178.507141</td>\n",
       "      <td>42.320808</td>\n",
       "      <td>737512</td>\n",
       "    </tr>\n",
       "    <tr>\n",
       "      <th>19729</th>\n",
       "      <td>1.779343</td>\n",
       "      <td>0.307368</td>\n",
       "      <td>5.451960</td>\n",
       "      <td>0.000307</td>\n",
       "      <td>0.110176</td>\n",
       "      <td>1.490383</td>\n",
       "      <td>0.000192</td>\n",
       "      <td>0.000239</td>\n",
       "      <td>6.723885</td>\n",
       "      <td>7.338775</td>\n",
       "      <td>...</td>\n",
       "      <td>-42.435076</td>\n",
       "      <td>27.493199</td>\n",
       "      <td>1826.938194</td>\n",
       "      <td>2997.006062</td>\n",
       "      <td>0.009862</td>\n",
       "      <td>74.074853</td>\n",
       "      <td>38.187860</td>\n",
       "      <td>-42.683143</td>\n",
       "      <td>27.530052</td>\n",
       "      <td>737490</td>\n",
       "    </tr>\n",
       "    <tr>\n",
       "      <th>15328</th>\n",
       "      <td>1.620143</td>\n",
       "      <td>0.156507</td>\n",
       "      <td>5.432241</td>\n",
       "      <td>0.000161</td>\n",
       "      <td>0.160531</td>\n",
       "      <td>0.795425</td>\n",
       "      <td>0.000034</td>\n",
       "      <td>0.000078</td>\n",
       "      <td>6.019821</td>\n",
       "      <td>7.252817</td>\n",
       "      <td>...</td>\n",
       "      <td>-1.759219</td>\n",
       "      <td>62.163444</td>\n",
       "      <td>1825.645874</td>\n",
       "      <td>3136.503662</td>\n",
       "      <td>0.005318</td>\n",
       "      <td>-99.664650</td>\n",
       "      <td>24.034750</td>\n",
       "      <td>-167.394714</td>\n",
       "      <td>61.800529</td>\n",
       "      <td>737500</td>\n",
       "    </tr>\n",
       "    <tr>\n",
       "      <th>9948</th>\n",
       "      <td>1.604304</td>\n",
       "      <td>0.329206</td>\n",
       "      <td>5.448610</td>\n",
       "      <td>0.000146</td>\n",
       "      <td>0.122278</td>\n",
       "      <td>1.739196</td>\n",
       "      <td>0.000038</td>\n",
       "      <td>0.000080</td>\n",
       "      <td>7.266880</td>\n",
       "      <td>8.045652</td>\n",
       "      <td>...</td>\n",
       "      <td>-151.700433</td>\n",
       "      <td>38.128041</td>\n",
       "      <td>1873.767578</td>\n",
       "      <td>3739.294434</td>\n",
       "      <td>0.049612</td>\n",
       "      <td>-97.283363</td>\n",
       "      <td>17.757866</td>\n",
       "      <td>-151.514038</td>\n",
       "      <td>38.127670</td>\n",
       "      <td>737485</td>\n",
       "    </tr>\n",
       "  </tbody>\n",
       "</table>\n",
       "<p>5 rows × 81 columns</p>\n",
       "</div>"
      ],
      "text/plain": [
       "       L3_CLOUD_cloud_optical_depth  L3_SO2_SO2_column_number_density_amf  \\\n",
       "15704                      4.445786                              0.000000   \n",
       "6261                       1.858340                              0.283459   \n",
       "19729                      1.779343                              0.307368   \n",
       "15328                      1.620143                              0.156507   \n",
       "9948                       1.604304                              0.329206   \n",
       "\n",
       "       L3_O3_O3_effective_temperature  L3_NO2_NO2_slant_column_number_density  \\\n",
       "15704                        0.000000                                0.000000   \n",
       "6261                         5.428212                                0.000000   \n",
       "19729                        5.451960                                0.000307   \n",
       "15328                        5.432241                                0.000161   \n",
       "9948                         5.448610                                0.000146   \n",
       "\n",
       "       L3_O3_O3_column_number_density  wind_speed  \\\n",
       "15704                        0.000000    1.277455   \n",
       "6261                         0.160343    0.726976   \n",
       "19729                        0.110176    1.490383   \n",
       "15328                        0.160531    0.795425   \n",
       "9948                         0.122278    1.739196   \n",
       "\n",
       "       L3_NO2_tropospheric_NO2_column_number_density  \\\n",
       "15704                                       0.000000   \n",
       "6261                                        0.000000   \n",
       "19729                                       0.000192   \n",
       "15328                                       0.000034   \n",
       "9948                                        0.000038   \n",
       "\n",
       "       L3_NO2_NO2_column_number_density  L3_CO_H2O_column_number_density  \\\n",
       "15704                          0.000000                         0.000000   \n",
       "6261                           0.000000                         6.726555   \n",
       "19729                          0.000239                         6.723885   \n",
       "15328                          0.000078                         6.019821   \n",
       "9948                           0.000080                         7.266880   \n",
       "\n",
       "       L3_CLOUD_cloud_base_height  ...  L3_SO2_solar_azimuth_angle  \\\n",
       "15704                    8.463041  ...                    0.000000   \n",
       "6261                     6.333293  ...                   15.853008   \n",
       "19729                    7.338775  ...                  -42.435076   \n",
       "15328                    7.252817  ...                   -1.759219   \n",
       "9948                     8.045652  ...                 -151.700433   \n",
       "\n",
       "       L3_SO2_solar_zenith_angle  \\\n",
       "15704                   0.000000   \n",
       "6261                   44.894381   \n",
       "19729                  27.493199   \n",
       "15328                  62.163444   \n",
       "9948                   38.128041   \n",
       "\n",
       "       L3_CH4_CH4_column_volume_mixing_ratio_dry_air  L3_CH4_aerosol_height  \\\n",
       "15704                                       0.000000               0.000000   \n",
       "6261                                     1868.758179            4503.353027   \n",
       "19729                                    1826.938194            2997.006062   \n",
       "15328                                    1825.645874            3136.503662   \n",
       "9948                                     1873.767578            3739.294434   \n",
       "\n",
       "       L3_CH4_aerosol_optical_depth  L3_CH4_sensor_azimuth_angle  \\\n",
       "15704                      0.000000                     0.000000   \n",
       "6261                       0.039820                    58.781277   \n",
       "19729                      0.009862                    74.074853   \n",
       "15328                      0.005318                   -99.664650   \n",
       "9948                       0.049612                   -97.283363   \n",
       "\n",
       "       L3_CH4_sensor_zenith_angle  L3_CH4_solar_azimuth_angle  \\\n",
       "15704                    0.000000                    0.000000   \n",
       "6261                    56.297928                  178.507141   \n",
       "19729                   38.187860                  -42.683143   \n",
       "15328                   24.034750                 -167.394714   \n",
       "9948                    17.757866                 -151.514038   \n",
       "\n",
       "       L3_CH4_solar_zenith_angle  ordinal_date  \n",
       "15704                   0.000000        737518  \n",
       "6261                   42.320808        737512  \n",
       "19729                  27.530052        737490  \n",
       "15328                  61.800529        737500  \n",
       "9948                   38.127670        737485  \n",
       "\n",
       "[5 rows x 81 columns]"
      ]
     },
     "execution_count": 71,
     "metadata": {},
     "output_type": "execute_result"
    }
   ],
   "source": [
    "X_train.head(5)"
   ]
  },
  {
   "cell_type": "markdown",
   "id": "1ece4338-fff3-42f8-bd94-544681523d13",
   "metadata": {},
   "source": [
    "### Linear regression model"
   ]
  },
  {
   "cell_type": "code",
   "execution_count": 72,
   "id": "99754d73-2269-451f-a17a-2eaed8a555ee",
   "metadata": {
    "tags": []
   },
   "outputs": [
    {
     "data": {
      "text/html": [
       "<style>#sk-container-id-1 {color: black;background-color: white;}#sk-container-id-1 pre{padding: 0;}#sk-container-id-1 div.sk-toggleable {background-color: white;}#sk-container-id-1 label.sk-toggleable__label {cursor: pointer;display: block;width: 100%;margin-bottom: 0;padding: 0.3em;box-sizing: border-box;text-align: center;}#sk-container-id-1 label.sk-toggleable__label-arrow:before {content: \"▸\";float: left;margin-right: 0.25em;color: #696969;}#sk-container-id-1 label.sk-toggleable__label-arrow:hover:before {color: black;}#sk-container-id-1 div.sk-estimator:hover label.sk-toggleable__label-arrow:before {color: black;}#sk-container-id-1 div.sk-toggleable__content {max-height: 0;max-width: 0;overflow: hidden;text-align: left;background-color: #f0f8ff;}#sk-container-id-1 div.sk-toggleable__content pre {margin: 0.2em;color: black;border-radius: 0.25em;background-color: #f0f8ff;}#sk-container-id-1 input.sk-toggleable__control:checked~div.sk-toggleable__content {max-height: 200px;max-width: 100%;overflow: auto;}#sk-container-id-1 input.sk-toggleable__control:checked~label.sk-toggleable__label-arrow:before {content: \"▾\";}#sk-container-id-1 div.sk-estimator input.sk-toggleable__control:checked~label.sk-toggleable__label {background-color: #d4ebff;}#sk-container-id-1 div.sk-label input.sk-toggleable__control:checked~label.sk-toggleable__label {background-color: #d4ebff;}#sk-container-id-1 input.sk-hidden--visually {border: 0;clip: rect(1px 1px 1px 1px);clip: rect(1px, 1px, 1px, 1px);height: 1px;margin: -1px;overflow: hidden;padding: 0;position: absolute;width: 1px;}#sk-container-id-1 div.sk-estimator {font-family: monospace;background-color: #f0f8ff;border: 1px dotted black;border-radius: 0.25em;box-sizing: border-box;margin-bottom: 0.5em;}#sk-container-id-1 div.sk-estimator:hover {background-color: #d4ebff;}#sk-container-id-1 div.sk-parallel-item::after {content: \"\";width: 100%;border-bottom: 1px solid gray;flex-grow: 1;}#sk-container-id-1 div.sk-label:hover label.sk-toggleable__label {background-color: #d4ebff;}#sk-container-id-1 div.sk-serial::before {content: \"\";position: absolute;border-left: 1px solid gray;box-sizing: border-box;top: 0;bottom: 0;left: 50%;z-index: 0;}#sk-container-id-1 div.sk-serial {display: flex;flex-direction: column;align-items: center;background-color: white;padding-right: 0.2em;padding-left: 0.2em;position: relative;}#sk-container-id-1 div.sk-item {position: relative;z-index: 1;}#sk-container-id-1 div.sk-parallel {display: flex;align-items: stretch;justify-content: center;background-color: white;position: relative;}#sk-container-id-1 div.sk-item::before, #sk-container-id-1 div.sk-parallel-item::before {content: \"\";position: absolute;border-left: 1px solid gray;box-sizing: border-box;top: 0;bottom: 0;left: 50%;z-index: -1;}#sk-container-id-1 div.sk-parallel-item {display: flex;flex-direction: column;z-index: 1;position: relative;background-color: white;}#sk-container-id-1 div.sk-parallel-item:first-child::after {align-self: flex-end;width: 50%;}#sk-container-id-1 div.sk-parallel-item:last-child::after {align-self: flex-start;width: 50%;}#sk-container-id-1 div.sk-parallel-item:only-child::after {width: 0;}#sk-container-id-1 div.sk-dashed-wrapped {border: 1px dashed gray;margin: 0 0.4em 0.5em 0.4em;box-sizing: border-box;padding-bottom: 0.4em;background-color: white;}#sk-container-id-1 div.sk-label label {font-family: monospace;font-weight: bold;display: inline-block;line-height: 1.2em;}#sk-container-id-1 div.sk-label-container {text-align: center;}#sk-container-id-1 div.sk-container {/* jupyter's `normalize.less` sets `[hidden] { display: none; }` but bootstrap.min.css set `[hidden] { display: none !important; }` so we also need the `!important` here to be able to override the default hidden behavior on the sphinx rendered scikit-learn.org. See: https://github.com/scikit-learn/scikit-learn/issues/21755 */display: inline-block !important;position: relative;}#sk-container-id-1 div.sk-text-repr-fallback {display: none;}</style><div id=\"sk-container-id-1\" class=\"sk-top-container\"><div class=\"sk-text-repr-fallback\"><pre>LinearRegression()</pre><b>In a Jupyter environment, please rerun this cell to show the HTML representation or trust the notebook. <br />On GitHub, the HTML representation is unable to render, please try loading this page with nbviewer.org.</b></div><div class=\"sk-container\" hidden><div class=\"sk-item\"><div class=\"sk-estimator sk-toggleable\"><input class=\"sk-toggleable__control sk-hidden--visually\" id=\"sk-estimator-id-1\" type=\"checkbox\" checked><label for=\"sk-estimator-id-1\" class=\"sk-toggleable__label sk-toggleable__label-arrow\">LinearRegression</label><div class=\"sk-toggleable__content\"><pre>LinearRegression()</pre></div></div></div></div></div>"
      ],
      "text/plain": [
       "LinearRegression()"
      ]
     },
     "execution_count": 72,
     "metadata": {},
     "output_type": "execute_result"
    }
   ],
   "source": [
    "# Instantiate our model \n",
    "lin_reg = LinearRegression()\n",
    "\n",
    "# Train the model using our data\n",
    "lin_reg.fit(X_train, y_train)\n"
   ]
  },
  {
   "cell_type": "code",
   "execution_count": 90,
   "id": "064d5b7a-ee82-461a-887b-9bfda6ba4b86",
   "metadata": {
    "tags": []
   },
   "outputs": [],
   "source": [
    "from sklearn.metrics import r2_score\n",
    "from sklearn.metrics import mean_squared_error"
   ]
  },
  {
   "cell_type": "code",
   "execution_count": 84,
   "id": "616eb02d-4ebc-4d3a-a4d7-e403c762c8b1",
   "metadata": {
    "tags": []
   },
   "outputs": [
    {
     "name": "stdout",
     "output_type": "stream",
     "text": [
      "R-squared: 0.702\n",
      "Mean squared error: 0.158\n"
     ]
    }
   ],
   "source": [
    "# Calculate the estimated value for each data point\n",
    "y_hat = lin_reg.predict(X_test)\n",
    "\n",
    "# Calculate the R-squared for our model\n",
    "print(\"R-squared:\", r2_score(y_test, y_hat).round(3))\n",
    "\n",
    "# # mean squared error\n",
    "print(\"Mean squared error:\", mean_squared_error(y_test, y_hat).round(3))"
   ]
  },
  {
   "cell_type": "code",
   "execution_count": 83,
   "id": "4cb119c5-5ed5-44e9-a61b-d9bfe1b88178",
   "metadata": {
    "tags": []
   },
   "outputs": [
    {
     "data": {
      "text/plain": [
       "array([3.45251057, 4.65423351, 3.9133511 , ..., 3.27244199, 4.38288907,\n",
       "       4.23305728])"
      ]
     },
     "execution_count": 83,
     "metadata": {},
     "output_type": "execute_result"
    }
   ],
   "source": [
    "lin_reg.predict(X_train)"
   ]
  },
  {
   "cell_type": "code",
   "execution_count": null,
   "id": "b601c387-2183-4101-85fe-eac66b91d2b3",
   "metadata": {},
   "outputs": [],
   "source": []
  }
 ],
 "metadata": {
  "kernelspec": {
   "display_name": "Python 3 (ipykernel)",
   "language": "python",
   "name": "python3"
  },
  "language_info": {
   "codemirror_mode": {
    "name": "ipython",
    "version": 3
   },
   "file_extension": ".py",
   "mimetype": "text/x-python",
   "name": "python",
   "nbconvert_exporter": "python",
   "pygments_lexer": "ipython3",
   "version": "3.9.17"
  }
 },
 "nbformat": 4,
 "nbformat_minor": 5
}
