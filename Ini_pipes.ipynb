{
 "cells": [
  {
   "cell_type": "markdown",
   "metadata": {},
   "source": [
    "This JNotebook is the guide to create an EDA/Pre-processing workflow"
   ]
  },
  {
   "cell_type": "code",
   "execution_count": null,
   "metadata": {},
   "outputs": [],
   "source": [
    "# Loading needed Libaries\n",
    "\n",
    "#data handling libaries\n",
    "import numpy as np\n",
    "import pandas as pd\n",
    "#plotting libaries\n",
    "import matplotlib.pyplot as plt\n",
    "import seaborn as sns\n",
    "#maschine learning libaries\n",
    "from sklearn.model_selection import train_test_split\n",
    "from sklearn.impute import SimpleImputer\n",
    "from sklearn import set_config\n",
    "\n",
    "\n",
    "# Setting random seed \n",
    "RSEED = 42"
   ]
  },
  {
   "cell_type": "code",
   "execution_count": null,
   "metadata": {},
   "outputs": [],
   "source": [
    "# Splitting target and features\n",
    "\n",
    "def split_target_features(df):\n",
    "    X = df.drop(\"target\", axis=1)\n",
    "    y = df.target\n",
    "\n",
    "    X_train, X_test, y_train, y_test = train_test_split(X, y, test_size=.3, shuffle=True, random_state=RSEED)\n",
    "    df_train = pd.concat([X_train, y_train], axis=1)\n",
    "    df_test = pd.concat([X_test, y_test], axis=1)\n",
    "    print(f'Your data_test shape is {df_test.shape()}')\n",
    "    print(f'Your data_train shape is {df_train.shape()}')\n",
    "    return  X_train, X_test, y_train, y_test, df_train, df_test\n"
   ]
  },
  {
   "cell_type": "code",
   "execution_count": null,
   "metadata": {},
   "outputs": [],
   "source": [
    "def floating_time(df_train):\n",
    "    df_train[\"ordinal_date\"] = df_train.Date.astype(\"datetime64\").apply(lambda x: x.toordinal())\n",
    "    return df_train"
   ]
  },
  {
   "cell_type": "code",
   "execution_count": null,
   "metadata": {},
   "outputs": [],
   "source": [
    "def windspeed(df_train):\n",
    "    df_train[\"wind_speed\"] = df_train.apply(lambda x: np.sqrt(x[\"u_component_of_wind_10m_above_ground\"]**2 + x[\"v_component_of_wind_10m_above_ground\"]**2), axis=1)\n",
    "    return df_train"
   ]
  },
  {
   "cell_type": "code",
   "execution_count": null,
   "metadata": {},
   "outputs": [],
   "source": [
    "def reduce_df(df_train, df_test):\n",
    "    cols_short = [col for col in df_train.columns if not \"angle\" in col \\\n",
    "     and not \"sensor\" in col \\\n",
    "     and not \"ID\" in col \\\n",
    "     and not \"Date\" in col \\\n",
    "     and not \"target_\" in col \\\n",
    "     and not \"water\" in col \\\n",
    "     and not \"_of_wind\" in col \\\n",
    "     and not \"CH4\" in col]\n",
    "    return cols_short"
   ]
  },
  {
   "cell_type": "code",
   "execution_count": null,
   "metadata": {},
   "outputs": [],
   "source": [
    "def impute_df(df_train,cols_short):\n",
    "    set_config(transform_output=\"pandas\")\n",
    "    imputer = SimpleImputer(strategy=\"median\")\n",
    "    df_imp = imputer.fit_transform(df_train[cols_short])\n",
    "    return df_imp, imputer"
   ]
  },
  {
   "cell_type": "code",
   "execution_count": null,
   "metadata": {},
   "outputs": [],
   "source": [
    "def transform_df(df_imp):\n",
    "    log_cols = [\"L3_CLOUD_cloud_optical_depth\", \"L3_SO2_SO2_column_number_density_amf\", \"wind_speed\", \"L3_O3_O3_effective_temperature\", \"L3_NO2_NO2_slant_column_number_density\", \"L3_O3_O3_column_number_density\", \"L3_NO2_tropospheric_NO2_column_number_density\", \"L3_NO2_NO2_column_number_density\", \"L3_CO_H2O_column_number_density\", \"L3_CLOUD_cloud_base_height\", \"L3_CLOUD_surface_albedo\",\n",
    "    \"L3_HCHO_tropospheric_HCHO_column_number_density_amf\", \"L3_CO_CO_column_number_density\", \"specific_humidity_2m_above_ground\",\n",
    "    \"L3_CLOUD_cloud_top_height\"]\n",
    "    df_imp[log_cols] = df_imp[log_cols].applymap(lambda x: np.log(x))\n",
    "    return df_imp\n",
    "transform_df(df_imp)"
   ]
  },
  {
   "cell_type": "code",
   "execution_count": 16,
   "metadata": {},
   "outputs": [],
   "source": [
    "class columnDropTransformer():\n",
    "    def __init__(self, ex_str):\n",
    "        self.ex_str=ex_str\n",
    "\n",
    "    def transform(self, X, y=None):\n",
    "        keep_cols =  [col for col in X.columns if not any([s in col for s in self.ex_str])]\n",
    "        return X[keep_cols]\n",
    "\n",
    "    def fit(self, X, y=None):\n",
    "        return self"
   ]
  },
  {
   "cell_type": "code",
   "execution_count": 17,
   "metadata": {},
   "outputs": [],
   "source": [
    "class ordinalDateTransformer():\n",
    "    def __init__(self):\n",
    "        pass\n",
    "\n",
    "    def transform(self, X, y=None):\n",
    "        X[\"ordinal_date\"] = X.Date.astype(\"datetime64[s]\").apply(lambda x: x.toordinal())\n",
    "        return X\n",
    "\n",
    "    def fit(self, X, y=None):\n",
    "        return self"
   ]
  },
  {
   "cell_type": "code",
   "execution_count": 18,
   "metadata": {},
   "outputs": [],
   "source": [
    "class windTransformer():\n",
    "    def __init__(self, columns):\n",
    "        self.columns=columns\n",
    "\n",
    "    def transform(self, X, y=None):\n",
    "        X[\"wind_speed\"] = X.apply(lambda x: np.sqrt(x[self.columns[0]]**2 + x[self.columns[1]]**2), axis=1)\n",
    "        return X.drop(self.columns, axis=1)\n",
    "\n",
    "    def fit(self, X, y=None):\n",
    "        return self"
   ]
  },
  {
   "cell_type": "code",
   "execution_count": 22,
   "metadata": {},
   "outputs": [],
   "source": [
    "from sklearn.preprocessing import StandardScaler\n",
    "from sklearn.preprocessing import FunctionTransformer\n",
    "from sklearn.impute import SimpleImputer\n",
    "from sklearn.pipeline import Pipeline\n",
    "import numpy as np"
   ]
  },
  {
   "cell_type": "code",
   "execution_count": 23,
   "metadata": {},
   "outputs": [],
   "source": [
    "wind_cols = [\"u_component_of_wind_10m_above_ground\", \"v_component_of_wind_10m_above_ground\"]\n",
    "ex_str = [\"angle\", \"sensor\", \"ID\", \"Date\", \"target_\", \"water\", \"_of_wind\", \"CH4\"]\n",
    "\n",
    "preprocessor = Pipeline([\n",
    "    (\"ordinal_date\", ordinalDateTransformer()),\n",
    "    (\"wind_transform\", windTransformer(wind_cols)),\n",
    "    (\"drop_cols\", columnDropTransformer(ex_str)),\n",
    "    (\"impute\", SimpleImputer(strategy=\"median\")),\n",
    "    (\"logit\", FunctionTransformer(np.log)),\n",
    "])"
   ]
  },
  {
   "cell_type": "code",
   "execution_count": null,
   "metadata": {},
   "outputs": [],
   "source": []
  }
 ],
 "metadata": {
  "kernelspec": {
   "display_name": ".venv",
   "language": "python",
   "name": "python3"
  },
  "language_info": {
   "codemirror_mode": {
    "name": "ipython",
    "version": 3
   },
   "file_extension": ".py",
   "mimetype": "text/x-python",
   "name": "python",
   "nbconvert_exporter": "python",
   "pygments_lexer": "ipython3",
   "version": "3.9.17"
  },
  "orig_nbformat": 4
 },
 "nbformat": 4,
 "nbformat_minor": 2
}
