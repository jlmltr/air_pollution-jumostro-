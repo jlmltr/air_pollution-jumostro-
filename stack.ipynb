{
 "cells": [
  {
   "cell_type": "code",
   "execution_count": 1,
   "metadata": {},
   "outputs": [],
   "source": [
    "import pandas as pd\n",
    "import numpy as np\n",
    "from preprocessing import get_preprocessor, get_preprocessor_poly\n",
    "from sklearn.model_selection import train_test_split\n",
    "from sklearn.ensemble import RandomForestRegressor, StackingRegressor\n",
    "from sklearn.linear_model import RidgeCV\n",
    "from sklearn.neighbors import KNeighborsRegressor\n",
    "from sklearn.tree import DecisionTreeRegressor\n",
    "from sklearn.compose import ColumnTransformer\n",
    "from sklearn.pipeline import Pipeline\n",
    "from sklearn.metrics import r2_score, mean_squared_error\n",
    "from sklearn import set_config\n",
    "import matplotlib.pyplot as plt\n",
    "import seaborn as sns\n",
    "set_config(transform_output=\"pandas\")"
   ]
  },
  {
   "cell_type": "markdown",
   "metadata": {},
   "source": [
    "import the data from the cloud"
   ]
  },
  {
   "cell_type": "code",
   "execution_count": 2,
   "metadata": {},
   "outputs": [
    {
     "data": {
      "text/html": [
       "<div>\n",
       "<style scoped>\n",
       "    .dataframe tbody tr th:only-of-type {\n",
       "        vertical-align: middle;\n",
       "    }\n",
       "\n",
       "    .dataframe tbody tr th {\n",
       "        vertical-align: top;\n",
       "    }\n",
       "\n",
       "    .dataframe thead th {\n",
       "        text-align: right;\n",
       "    }\n",
       "</style>\n",
       "<table border=\"1\" class=\"dataframe\">\n",
       "  <thead>\n",
       "    <tr style=\"text-align: right;\">\n",
       "      <th></th>\n",
       "      <th>Place_ID X Date</th>\n",
       "      <th>Date</th>\n",
       "      <th>Place_ID</th>\n",
       "      <th>target</th>\n",
       "      <th>target_min</th>\n",
       "      <th>target_max</th>\n",
       "      <th>target_variance</th>\n",
       "      <th>target_count</th>\n",
       "      <th>precipitable_water_entire_atmosphere</th>\n",
       "      <th>relative_humidity_2m_above_ground</th>\n",
       "      <th>...</th>\n",
       "      <th>L3_SO2_sensor_zenith_angle</th>\n",
       "      <th>L3_SO2_solar_azimuth_angle</th>\n",
       "      <th>L3_SO2_solar_zenith_angle</th>\n",
       "      <th>L3_CH4_CH4_column_volume_mixing_ratio_dry_air</th>\n",
       "      <th>L3_CH4_aerosol_height</th>\n",
       "      <th>L3_CH4_aerosol_optical_depth</th>\n",
       "      <th>L3_CH4_sensor_azimuth_angle</th>\n",
       "      <th>L3_CH4_sensor_zenith_angle</th>\n",
       "      <th>L3_CH4_solar_azimuth_angle</th>\n",
       "      <th>L3_CH4_solar_zenith_angle</th>\n",
       "    </tr>\n",
       "  </thead>\n",
       "  <tbody>\n",
       "    <tr>\n",
       "      <th>0</th>\n",
       "      <td>010Q650 X 2020-01-02</td>\n",
       "      <td>2020-01-02</td>\n",
       "      <td>010Q650</td>\n",
       "      <td>38.0</td>\n",
       "      <td>23.0</td>\n",
       "      <td>53.0</td>\n",
       "      <td>769.50</td>\n",
       "      <td>92</td>\n",
       "      <td>11.0</td>\n",
       "      <td>60.200001</td>\n",
       "      <td>...</td>\n",
       "      <td>38.593017</td>\n",
       "      <td>-61.752587</td>\n",
       "      <td>22.363665</td>\n",
       "      <td>1793.793579</td>\n",
       "      <td>3227.855469</td>\n",
       "      <td>0.010579</td>\n",
       "      <td>74.481049</td>\n",
       "      <td>37.501499</td>\n",
       "      <td>-62.142639</td>\n",
       "      <td>22.545118</td>\n",
       "    </tr>\n",
       "    <tr>\n",
       "      <th>1</th>\n",
       "      <td>010Q650 X 2020-01-03</td>\n",
       "      <td>2020-01-03</td>\n",
       "      <td>010Q650</td>\n",
       "      <td>39.0</td>\n",
       "      <td>25.0</td>\n",
       "      <td>63.0</td>\n",
       "      <td>1319.85</td>\n",
       "      <td>91</td>\n",
       "      <td>14.6</td>\n",
       "      <td>48.799999</td>\n",
       "      <td>...</td>\n",
       "      <td>59.624912</td>\n",
       "      <td>-67.693509</td>\n",
       "      <td>28.614804</td>\n",
       "      <td>1789.960449</td>\n",
       "      <td>3384.226562</td>\n",
       "      <td>0.015104</td>\n",
       "      <td>75.630043</td>\n",
       "      <td>55.657486</td>\n",
       "      <td>-53.868134</td>\n",
       "      <td>19.293652</td>\n",
       "    </tr>\n",
       "  </tbody>\n",
       "</table>\n",
       "<p>2 rows × 82 columns</p>\n",
       "</div>"
      ],
      "text/plain": [
       "        Place_ID X Date        Date Place_ID  target  target_min  target_max  \\\n",
       "0  010Q650 X 2020-01-02  2020-01-02  010Q650    38.0        23.0        53.0   \n",
       "1  010Q650 X 2020-01-03  2020-01-03  010Q650    39.0        25.0        63.0   \n",
       "\n",
       "   target_variance  target_count  precipitable_water_entire_atmosphere  \\\n",
       "0           769.50            92                                  11.0   \n",
       "1          1319.85            91                                  14.6   \n",
       "\n",
       "   relative_humidity_2m_above_ground  ...  L3_SO2_sensor_zenith_angle  \\\n",
       "0                          60.200001  ...                   38.593017   \n",
       "1                          48.799999  ...                   59.624912   \n",
       "\n",
       "   L3_SO2_solar_azimuth_angle  L3_SO2_solar_zenith_angle  \\\n",
       "0                  -61.752587                  22.363665   \n",
       "1                  -67.693509                  28.614804   \n",
       "\n",
       "   L3_CH4_CH4_column_volume_mixing_ratio_dry_air  L3_CH4_aerosol_height  \\\n",
       "0                                    1793.793579            3227.855469   \n",
       "1                                    1789.960449            3384.226562   \n",
       "\n",
       "   L3_CH4_aerosol_optical_depth  L3_CH4_sensor_azimuth_angle  \\\n",
       "0                      0.010579                    74.481049   \n",
       "1                      0.015104                    75.630043   \n",
       "\n",
       "   L3_CH4_sensor_zenith_angle  L3_CH4_solar_azimuth_angle  \\\n",
       "0                   37.501499                  -62.142639   \n",
       "1                   55.657486                  -53.868134   \n",
       "\n",
       "   L3_CH4_solar_zenith_angle  \n",
       "0                  22.545118  \n",
       "1                  19.293652  \n",
       "\n",
       "[2 rows x 82 columns]"
      ]
     },
     "execution_count": 2,
     "metadata": {},
     "output_type": "execute_result"
    }
   ],
   "source": [
    "df = pd.read_csv(\"https://storage.googleapis.com/second-try-ml/air-pollution/Train.csv\")\n",
    "df.head(2)"
   ]
  },
  {
   "cell_type": "markdown",
   "metadata": {},
   "source": [
    "define features and targets and split data into train and test"
   ]
  },
  {
   "cell_type": "code",
   "execution_count": 3,
   "metadata": {},
   "outputs": [
    {
     "data": {
      "text/html": [
       "<div>\n",
       "<style scoped>\n",
       "    .dataframe tbody tr th:only-of-type {\n",
       "        vertical-align: middle;\n",
       "    }\n",
       "\n",
       "    .dataframe tbody tr th {\n",
       "        vertical-align: top;\n",
       "    }\n",
       "\n",
       "    .dataframe thead th {\n",
       "        text-align: right;\n",
       "    }\n",
       "</style>\n",
       "<table border=\"1\" class=\"dataframe\">\n",
       "  <thead>\n",
       "    <tr style=\"text-align: right;\">\n",
       "      <th></th>\n",
       "      <th>Place_ID X Date</th>\n",
       "      <th>Date</th>\n",
       "      <th>Place_ID</th>\n",
       "      <th>target_min</th>\n",
       "      <th>target_max</th>\n",
       "      <th>target_variance</th>\n",
       "      <th>target_count</th>\n",
       "      <th>precipitable_water_entire_atmosphere</th>\n",
       "      <th>relative_humidity_2m_above_ground</th>\n",
       "      <th>specific_humidity_2m_above_ground</th>\n",
       "      <th>...</th>\n",
       "      <th>L3_SO2_solar_azimuth_angle</th>\n",
       "      <th>L3_SO2_solar_zenith_angle</th>\n",
       "      <th>L3_CH4_CH4_column_volume_mixing_ratio_dry_air</th>\n",
       "      <th>L3_CH4_aerosol_height</th>\n",
       "      <th>L3_CH4_aerosol_optical_depth</th>\n",
       "      <th>L3_CH4_sensor_azimuth_angle</th>\n",
       "      <th>L3_CH4_sensor_zenith_angle</th>\n",
       "      <th>L3_CH4_solar_azimuth_angle</th>\n",
       "      <th>L3_CH4_solar_zenith_angle</th>\n",
       "      <th>target</th>\n",
       "    </tr>\n",
       "  </thead>\n",
       "  <tbody>\n",
       "    <tr>\n",
       "      <th>19308</th>\n",
       "      <td>KYNZWCA X 2020-03-10</td>\n",
       "      <td>2020-03-10</td>\n",
       "      <td>KYNZWCA</td>\n",
       "      <td>4.0</td>\n",
       "      <td>61.0</td>\n",
       "      <td>1726.84</td>\n",
       "      <td>61</td>\n",
       "      <td>16.518541</td>\n",
       "      <td>63.600002</td>\n",
       "      <td>0.006580</td>\n",
       "      <td>...</td>\n",
       "      <td>-39.126728</td>\n",
       "      <td>41.704754</td>\n",
       "      <td>NaN</td>\n",
       "      <td>NaN</td>\n",
       "      <td>NaN</td>\n",
       "      <td>NaN</td>\n",
       "      <td>NaN</td>\n",
       "      <td>NaN</td>\n",
       "      <td>NaN</td>\n",
       "      <td>22.0</td>\n",
       "    </tr>\n",
       "    <tr>\n",
       "      <th>7260</th>\n",
       "      <td>7DRFQCK X 2020-03-08</td>\n",
       "      <td>2020-03-08</td>\n",
       "      <td>7DRFQCK</td>\n",
       "      <td>3.0</td>\n",
       "      <td>55.0</td>\n",
       "      <td>2115.89</td>\n",
       "      <td>168</td>\n",
       "      <td>3.186504</td>\n",
       "      <td>57.642859</td>\n",
       "      <td>0.001815</td>\n",
       "      <td>...</td>\n",
       "      <td>66.413640</td>\n",
       "      <td>69.282032</td>\n",
       "      <td>NaN</td>\n",
       "      <td>NaN</td>\n",
       "      <td>NaN</td>\n",
       "      <td>NaN</td>\n",
       "      <td>NaN</td>\n",
       "      <td>NaN</td>\n",
       "      <td>NaN</td>\n",
       "      <td>18.0</td>\n",
       "    </tr>\n",
       "  </tbody>\n",
       "</table>\n",
       "<p>2 rows × 82 columns</p>\n",
       "</div>"
      ],
      "text/plain": [
       "            Place_ID X Date        Date Place_ID  target_min  target_max  \\\n",
       "19308  KYNZWCA X 2020-03-10  2020-03-10  KYNZWCA         4.0        61.0   \n",
       "7260   7DRFQCK X 2020-03-08  2020-03-08  7DRFQCK         3.0        55.0   \n",
       "\n",
       "       target_variance  target_count  precipitable_water_entire_atmosphere  \\\n",
       "19308          1726.84            61                             16.518541   \n",
       "7260           2115.89           168                              3.186504   \n",
       "\n",
       "       relative_humidity_2m_above_ground  specific_humidity_2m_above_ground  \\\n",
       "19308                          63.600002                           0.006580   \n",
       "7260                           57.642859                           0.001815   \n",
       "\n",
       "       ...  L3_SO2_solar_azimuth_angle  L3_SO2_solar_zenith_angle  \\\n",
       "19308  ...                  -39.126728                  41.704754   \n",
       "7260   ...                   66.413640                  69.282032   \n",
       "\n",
       "       L3_CH4_CH4_column_volume_mixing_ratio_dry_air  L3_CH4_aerosol_height  \\\n",
       "19308                                            NaN                    NaN   \n",
       "7260                                             NaN                    NaN   \n",
       "\n",
       "       L3_CH4_aerosol_optical_depth  L3_CH4_sensor_azimuth_angle  \\\n",
       "19308                           NaN                          NaN   \n",
       "7260                            NaN                          NaN   \n",
       "\n",
       "       L3_CH4_sensor_zenith_angle  L3_CH4_solar_azimuth_angle  \\\n",
       "19308                         NaN                         NaN   \n",
       "7260                          NaN                         NaN   \n",
       "\n",
       "       L3_CH4_solar_zenith_angle  target  \n",
       "19308                        NaN    22.0  \n",
       "7260                         NaN    18.0  \n",
       "\n",
       "[2 rows x 82 columns]"
      ]
     },
     "execution_count": 3,
     "metadata": {},
     "output_type": "execute_result"
    }
   ],
   "source": [
    "RSEED = 42\n",
    "X = df.drop(\"target\", axis=1)\n",
    "y = df.target\n",
    "\n",
    "X_train, X_test, y_train, y_test = train_test_split(X, y, test_size=.3, shuffle=True, random_state=RSEED)\n",
    "df_train = pd.concat([X_train, y_train], axis=1)\n",
    "df_train.head(2)"
   ]
  },
  {
   "cell_type": "markdown",
   "metadata": {},
   "source": [
    "load preprocessor 1"
   ]
  },
  {
   "cell_type": "code",
   "execution_count": 4,
   "metadata": {},
   "outputs": [],
   "source": [
    "preproc = get_preprocessor()"
   ]
  },
  {
   "cell_type": "markdown",
   "metadata": {},
   "source": [
    "define function for printing model performance values"
   ]
  },
  {
   "cell_type": "code",
   "execution_count": 6,
   "metadata": {},
   "outputs": [],
   "source": [
    "def print_scores(y_train, y_test, y_pred_train, y_pred):\n",
    "    print(\"Train RMSE: \", mean_squared_error(y_train, y_pred_train, squared=False))\n",
    "    print(\"Train R^2: \", r2_score(y_train, y_pred_train))\n",
    "    print(\"Test RMSE: \", mean_squared_error(y_test, y_pred, squared=False))\n",
    "    print(\"Test R^2: \", r2_score(y_test, y_pred))"
   ]
  },
  {
   "cell_type": "markdown",
   "metadata": {},
   "source": [
    "split train data for testing a stacked model"
   ]
  },
  {
   "cell_type": "code",
   "execution_count": 7,
   "metadata": {},
   "outputs": [],
   "source": [
    "X_train_1, X_train_2, y_train_1, y_train_2 = train_test_split(X_train, y_train, test_size=0.4, shuffle=True, random_state=RSEED)"
   ]
  },
  {
   "cell_type": "markdown",
   "metadata": {},
   "source": [
    "import preprocessor for linear model (with polynomial expansion)"
   ]
  },
  {
   "cell_type": "code",
   "execution_count": 8,
   "metadata": {},
   "outputs": [
    {
     "name": "stdout",
     "output_type": "stream",
     "text": [
      "Train RMSE:  32.067895160464666\n",
      "Train R^2:  0.5328587049133635\n",
      "Test RMSE:  35.27355923220966\n",
      "Test R^2:  0.44102233323214013\n"
     ]
    }
   ],
   "source": [
    "preproc_poly = get_preprocessor_poly()"
   ]
  },
  {
   "cell_type": "markdown",
   "metadata": {},
   "source": [
    "define and asses ride regressor model"
   ]
  },
  {
   "cell_type": "code",
   "execution_count": null,
   "metadata": {},
   "outputs": [],
   "source": [
    "rid = Pipeline([\n",
    "    (\"preproc\", preproc_poly),\n",
    "    (\"ridge\", RidgeCV(cv=3)),\n",
    "    ])\n",
    "\n",
    "rid.fit(X_train_1, y_train_1)\n",
    "\n",
    "rid_pred = rid.predict(X_train_2)\n",
    "rid_pred_train = rid.predict(X_train_1)\n",
    "\n",
    "print_scores(y_train_1, y_train_2, rid_pred_train, rid_pred)"
   ]
  },
  {
   "cell_type": "markdown",
   "metadata": {},
   "source": [
    "define and asses k nearest neighbors regressor model"
   ]
  },
  {
   "cell_type": "code",
   "execution_count": 9,
   "metadata": {},
   "outputs": [
    {
     "name": "stdout",
     "output_type": "stream",
     "text": [
      "Train RMSE:  32.067895160464666\n",
      "Train R^2:  0.5328587049133635\n",
      "Test RMSE:  34.14845771519231\n",
      "Test R^2:  0.47611245105784006\n"
     ]
    }
   ],
   "source": [
    "knn = Pipeline([\n",
    "    (\"preproc\", preproc),\n",
    "    (\"knn\", KNeighborsRegressor(n_neighbors=10, weights=\"distance\")),\n",
    "    ])\n",
    "\n",
    "knn.fit(X_train_1, y_train_1)\n",
    "\n",
    "knn_pred = knn.predict(X_train_2)\n",
    "knn_pred_train = rid.predict(X_train_1)\n",
    "\n",
    "print_scores(y_train_1, y_train_2, knn_pred_train, knn_pred)"
   ]
  },
  {
   "cell_type": "markdown",
   "metadata": {},
   "source": [
    "define and asses random forest regressor model"
   ]
  },
  {
   "cell_type": "code",
   "execution_count": 10,
   "metadata": {},
   "outputs": [
    {
     "name": "stdout",
     "output_type": "stream",
     "text": [
      "Train RMSE:  32.067895160464666\n",
      "Train R^2:  0.5328587049133635\n",
      "Test RMSE:  34.596993905582686\n",
      "Test R^2:  0.4622596579376611\n"
     ]
    }
   ],
   "source": [
    "randF = Pipeline([\n",
    "    (\"preproc\", preproc),\n",
    "    (\"randF\", RandomForestRegressor(n_estimators=200, max_depth=10, random_state=RSEED, n_jobs=-1)),\n",
    "    ])\n",
    "\n",
    "randF.fit(X_train_1, y_train_1)\n",
    "randF_pred = randF.predict(X_train_2)\n",
    "randF_pred_train = rid.predict(X_train_1)\n",
    "\n",
    "print_scores(y_train_1, y_train_2, randF_pred_train, randF_pred)"
   ]
  },
  {
   "cell_type": "markdown",
   "metadata": {},
   "source": [
    "define and asses random forest regressor model as a final estimator in a stacked approach"
   ]
  },
  {
   "cell_type": "code",
   "execution_count": 11,
   "metadata": {},
   "outputs": [
    {
     "name": "stdout",
     "output_type": "stream",
     "text": [
      "Train RMSE:  32.43769052879669\n",
      "Train R^2:  0.5272889643837524\n",
      "Test RMSE:  32.17202195545843\n",
      "Test R^2:  0.5207562300922104\n"
     ]
    }
   ],
   "source": [
    "df_train_final = pd.concat([pd.DataFrame(rid_pred), pd.DataFrame(knn_pred), pd.DataFrame(randF_pred)], axis=1)\n",
    "finalForest = RandomForestRegressor(n_estimators=20, max_depth=3, random_state=RSEED, n_jobs=-1)\n",
    "finalForest.fit(df_train_final, y_train_2)\n",
    "\n",
    "final_pred_train = finalForest.predict(df_train_final)\n",
    "\n",
    "rid_pred_test = rid.predict(X_test)\n",
    "knn_pred_test = knn.predict(X_test)\n",
    "randF_pred_test = randF.predict(X_test)\n",
    "\n",
    "comb_pred = pd.concat([\n",
    "            pd.DataFrame(rid_pred_test), \n",
    "            pd.DataFrame(knn_pred_test),\n",
    "            pd.DataFrame(randF_pred_test),\n",
    "        ], axis=1)\n",
    "\n",
    "final_pred = finalForest.predict(comb_pred)\n",
    "\n",
    "print_scores(y_train_2, y_test, final_pred_train, final_pred)"
   ]
  },
  {
   "cell_type": "markdown",
   "metadata": {},
   "source": [
    "define (sklearn) stacking regressor"
   ]
  },
  {
   "cell_type": "code",
   "execution_count": 12,
   "metadata": {},
   "outputs": [],
   "source": [
    "estimators = [(\"rid\", rid), (\"knn\", knn), (\"randF\", randF)]"
   ]
  },
  {
   "cell_type": "code",
   "execution_count": 13,
   "metadata": {},
   "outputs": [],
   "source": [
    "sr = StackingRegressor(estimators=estimators, final_estimator=finalForest, cv=5, n_jobs=-1)"
   ]
  },
  {
   "cell_type": "code",
   "execution_count": 14,
   "metadata": {},
   "outputs": [
    {
     "data": {
      "text/html": [
       "<style>#sk-container-id-1 {color: black;}#sk-container-id-1 pre{padding: 0;}#sk-container-id-1 div.sk-toggleable {background-color: white;}#sk-container-id-1 label.sk-toggleable__label {cursor: pointer;display: block;width: 100%;margin-bottom: 0;padding: 0.3em;box-sizing: border-box;text-align: center;}#sk-container-id-1 label.sk-toggleable__label-arrow:before {content: \"▸\";float: left;margin-right: 0.25em;color: #696969;}#sk-container-id-1 label.sk-toggleable__label-arrow:hover:before {color: black;}#sk-container-id-1 div.sk-estimator:hover label.sk-toggleable__label-arrow:before {color: black;}#sk-container-id-1 div.sk-toggleable__content {max-height: 0;max-width: 0;overflow: hidden;text-align: left;background-color: #f0f8ff;}#sk-container-id-1 div.sk-toggleable__content pre {margin: 0.2em;color: black;border-radius: 0.25em;background-color: #f0f8ff;}#sk-container-id-1 input.sk-toggleable__control:checked~div.sk-toggleable__content {max-height: 200px;max-width: 100%;overflow: auto;}#sk-container-id-1 input.sk-toggleable__control:checked~label.sk-toggleable__label-arrow:before {content: \"▾\";}#sk-container-id-1 div.sk-estimator input.sk-toggleable__control:checked~label.sk-toggleable__label {background-color: #d4ebff;}#sk-container-id-1 div.sk-label input.sk-toggleable__control:checked~label.sk-toggleable__label {background-color: #d4ebff;}#sk-container-id-1 input.sk-hidden--visually {border: 0;clip: rect(1px 1px 1px 1px);clip: rect(1px, 1px, 1px, 1px);height: 1px;margin: -1px;overflow: hidden;padding: 0;position: absolute;width: 1px;}#sk-container-id-1 div.sk-estimator {font-family: monospace;background-color: #f0f8ff;border: 1px dotted black;border-radius: 0.25em;box-sizing: border-box;margin-bottom: 0.5em;}#sk-container-id-1 div.sk-estimator:hover {background-color: #d4ebff;}#sk-container-id-1 div.sk-parallel-item::after {content: \"\";width: 100%;border-bottom: 1px solid gray;flex-grow: 1;}#sk-container-id-1 div.sk-label:hover label.sk-toggleable__label {background-color: #d4ebff;}#sk-container-id-1 div.sk-serial::before {content: \"\";position: absolute;border-left: 1px solid gray;box-sizing: border-box;top: 0;bottom: 0;left: 50%;z-index: 0;}#sk-container-id-1 div.sk-serial {display: flex;flex-direction: column;align-items: center;background-color: white;padding-right: 0.2em;padding-left: 0.2em;position: relative;}#sk-container-id-1 div.sk-item {position: relative;z-index: 1;}#sk-container-id-1 div.sk-parallel {display: flex;align-items: stretch;justify-content: center;background-color: white;position: relative;}#sk-container-id-1 div.sk-item::before, #sk-container-id-1 div.sk-parallel-item::before {content: \"\";position: absolute;border-left: 1px solid gray;box-sizing: border-box;top: 0;bottom: 0;left: 50%;z-index: -1;}#sk-container-id-1 div.sk-parallel-item {display: flex;flex-direction: column;z-index: 1;position: relative;background-color: white;}#sk-container-id-1 div.sk-parallel-item:first-child::after {align-self: flex-end;width: 50%;}#sk-container-id-1 div.sk-parallel-item:last-child::after {align-self: flex-start;width: 50%;}#sk-container-id-1 div.sk-parallel-item:only-child::after {width: 0;}#sk-container-id-1 div.sk-dashed-wrapped {border: 1px dashed gray;margin: 0 0.4em 0.5em 0.4em;box-sizing: border-box;padding-bottom: 0.4em;background-color: white;}#sk-container-id-1 div.sk-label label {font-family: monospace;font-weight: bold;display: inline-block;line-height: 1.2em;}#sk-container-id-1 div.sk-label-container {text-align: center;}#sk-container-id-1 div.sk-container {/* jupyter's `normalize.less` sets `[hidden] { display: none; }` but bootstrap.min.css set `[hidden] { display: none !important; }` so we also need the `!important` here to be able to override the default hidden behavior on the sphinx rendered scikit-learn.org. See: https://github.com/scikit-learn/scikit-learn/issues/21755 */display: inline-block !important;position: relative;}#sk-container-id-1 div.sk-text-repr-fallback {display: none;}</style><div id=\"sk-container-id-1\" class=\"sk-top-container\"><div class=\"sk-text-repr-fallback\"><pre>StackingRegressor(cv=5,\n",
       "                  estimators=[(&#x27;rid&#x27;,\n",
       "                               Pipeline(steps=[(&#x27;preproc&#x27;,\n",
       "                                                Pipeline(steps=[(&#x27;ordinal_date&#x27;,\n",
       "                                                                 &lt;preprocessing.ordinalDateTransformer object at 0x000001DB745469A0&gt;),\n",
       "                                                                (&#x27;wind_transform&#x27;,\n",
       "                                                                 &lt;preprocessing.windTransformer object at 0x000001DB74546340&gt;),\n",
       "                                                                (&#x27;drop_cols&#x27;,\n",
       "                                                                 &lt;preprocessing.columnDropTransformer object at 0x000001DB74546CD0&gt;),\n",
       "                                                                (&#x27;impute&#x27;,\n",
       "                                                                 SimpleImputer(stra...\n",
       "                                                                 &lt;preprocessing.columnDropTransformer object at 0x000001DB74546310&gt;),\n",
       "                                                                (&#x27;impute&#x27;,\n",
       "                                                                 SimpleImputer(strategy=&#x27;median&#x27;)),\n",
       "                                                                (&#x27;logit&#x27;,\n",
       "                                                                 &lt;preprocessing.logTransformer object at 0x000001DB74546820&gt;),\n",
       "                                                                (&#x27;scaling&#x27;,\n",
       "                                                                 StandardScaler())])),\n",
       "                                               (&#x27;randF&#x27;,\n",
       "                                                RandomForestRegressor(max_depth=10,\n",
       "                                                                      n_estimators=200,\n",
       "                                                                      n_jobs=-1,\n",
       "                                                                      random_state=42))]))],\n",
       "                  final_estimator=RandomForestRegressor(max_depth=3,\n",
       "                                                        n_estimators=20,\n",
       "                                                        n_jobs=-1,\n",
       "                                                        random_state=42),\n",
       "                  n_jobs=-1)</pre><b>In a Jupyter environment, please rerun this cell to show the HTML representation or trust the notebook. <br />On GitHub, the HTML representation is unable to render, please try loading this page with nbviewer.org.</b></div><div class=\"sk-container\" hidden><div class=\"sk-item sk-dashed-wrapped\"><div class=\"sk-label-container\"><div class=\"sk-label sk-toggleable\"><input class=\"sk-toggleable__control sk-hidden--visually\" id=\"sk-estimator-id-1\" type=\"checkbox\" ><label for=\"sk-estimator-id-1\" class=\"sk-toggleable__label sk-toggleable__label-arrow\">StackingRegressor</label><div class=\"sk-toggleable__content\"><pre>StackingRegressor(cv=5,\n",
       "                  estimators=[(&#x27;rid&#x27;,\n",
       "                               Pipeline(steps=[(&#x27;preproc&#x27;,\n",
       "                                                Pipeline(steps=[(&#x27;ordinal_date&#x27;,\n",
       "                                                                 &lt;preprocessing.ordinalDateTransformer object at 0x000001DB745469A0&gt;),\n",
       "                                                                (&#x27;wind_transform&#x27;,\n",
       "                                                                 &lt;preprocessing.windTransformer object at 0x000001DB74546340&gt;),\n",
       "                                                                (&#x27;drop_cols&#x27;,\n",
       "                                                                 &lt;preprocessing.columnDropTransformer object at 0x000001DB74546CD0&gt;),\n",
       "                                                                (&#x27;impute&#x27;,\n",
       "                                                                 SimpleImputer(stra...\n",
       "                                                                 &lt;preprocessing.columnDropTransformer object at 0x000001DB74546310&gt;),\n",
       "                                                                (&#x27;impute&#x27;,\n",
       "                                                                 SimpleImputer(strategy=&#x27;median&#x27;)),\n",
       "                                                                (&#x27;logit&#x27;,\n",
       "                                                                 &lt;preprocessing.logTransformer object at 0x000001DB74546820&gt;),\n",
       "                                                                (&#x27;scaling&#x27;,\n",
       "                                                                 StandardScaler())])),\n",
       "                                               (&#x27;randF&#x27;,\n",
       "                                                RandomForestRegressor(max_depth=10,\n",
       "                                                                      n_estimators=200,\n",
       "                                                                      n_jobs=-1,\n",
       "                                                                      random_state=42))]))],\n",
       "                  final_estimator=RandomForestRegressor(max_depth=3,\n",
       "                                                        n_estimators=20,\n",
       "                                                        n_jobs=-1,\n",
       "                                                        random_state=42),\n",
       "                  n_jobs=-1)</pre></div></div></div><div class=\"sk-serial\"><div class=\"sk-item\"><div class=\"sk-parallel\"><div class=\"sk-parallel-item\"><div class=\"sk-item\"><div class=\"sk-label-container\"><div class=\"sk-label sk-toggleable\"><label>rid</label></div></div><div class=\"sk-serial\"><div class=\"sk-item\"><div class=\"sk-serial\"><div class=\"sk-item\"><div class=\"sk-label-container\"><div class=\"sk-label sk-toggleable\"><input class=\"sk-toggleable__control sk-hidden--visually\" id=\"sk-estimator-id-2\" type=\"checkbox\" ><label for=\"sk-estimator-id-2\" class=\"sk-toggleable__label sk-toggleable__label-arrow\">preproc: Pipeline</label><div class=\"sk-toggleable__content\"><pre>Pipeline(steps=[(&#x27;ordinal_date&#x27;,\n",
       "                 &lt;preprocessing.ordinalDateTransformer object at 0x000001DB745469A0&gt;),\n",
       "                (&#x27;wind_transform&#x27;,\n",
       "                 &lt;preprocessing.windTransformer object at 0x000001DB74546340&gt;),\n",
       "                (&#x27;drop_cols&#x27;,\n",
       "                 &lt;preprocessing.columnDropTransformer object at 0x000001DB74546CD0&gt;),\n",
       "                (&#x27;impute&#x27;, SimpleImputer(strategy=&#x27;median&#x27;)),\n",
       "                (&#x27;logit&#x27;,\n",
       "                 &lt;preprocessing.logTransformer object at 0x000001DB74546F70&gt;),\n",
       "                (&#x27;scaling&#x27;, StandardScaler()),\n",
       "                (&#x27;polynomial&#x27;,\n",
       "                 &lt;preprocessing.polynomialTransformer object at 0x000001DB74546400&gt;)])</pre></div></div></div><div class=\"sk-serial\"><div class=\"sk-item\"><div class=\"sk-estimator sk-toggleable\"><input class=\"sk-toggleable__control sk-hidden--visually\" id=\"sk-estimator-id-3\" type=\"checkbox\" ><label for=\"sk-estimator-id-3\" class=\"sk-toggleable__label sk-toggleable__label-arrow\">ordinalDateTransformer</label><div class=\"sk-toggleable__content\"><pre>&lt;preprocessing.ordinalDateTransformer object at 0x000001DB745469A0&gt;</pre></div></div></div><div class=\"sk-item\"><div class=\"sk-estimator sk-toggleable\"><input class=\"sk-toggleable__control sk-hidden--visually\" id=\"sk-estimator-id-4\" type=\"checkbox\" ><label for=\"sk-estimator-id-4\" class=\"sk-toggleable__label sk-toggleable__label-arrow\">windTransformer</label><div class=\"sk-toggleable__content\"><pre>&lt;preprocessing.windTransformer object at 0x000001DB74546340&gt;</pre></div></div></div><div class=\"sk-item\"><div class=\"sk-estimator sk-toggleable\"><input class=\"sk-toggleable__control sk-hidden--visually\" id=\"sk-estimator-id-5\" type=\"checkbox\" ><label for=\"sk-estimator-id-5\" class=\"sk-toggleable__label sk-toggleable__label-arrow\">columnDropTransformer</label><div class=\"sk-toggleable__content\"><pre>&lt;preprocessing.columnDropTransformer object at 0x000001DB74546CD0&gt;</pre></div></div></div><div class=\"sk-item\"><div class=\"sk-estimator sk-toggleable\"><input class=\"sk-toggleable__control sk-hidden--visually\" id=\"sk-estimator-id-6\" type=\"checkbox\" ><label for=\"sk-estimator-id-6\" class=\"sk-toggleable__label sk-toggleable__label-arrow\">SimpleImputer</label><div class=\"sk-toggleable__content\"><pre>SimpleImputer(strategy=&#x27;median&#x27;)</pre></div></div></div><div class=\"sk-item\"><div class=\"sk-estimator sk-toggleable\"><input class=\"sk-toggleable__control sk-hidden--visually\" id=\"sk-estimator-id-7\" type=\"checkbox\" ><label for=\"sk-estimator-id-7\" class=\"sk-toggleable__label sk-toggleable__label-arrow\">logTransformer</label><div class=\"sk-toggleable__content\"><pre>&lt;preprocessing.logTransformer object at 0x000001DB74546F70&gt;</pre></div></div></div><div class=\"sk-item\"><div class=\"sk-estimator sk-toggleable\"><input class=\"sk-toggleable__control sk-hidden--visually\" id=\"sk-estimator-id-8\" type=\"checkbox\" ><label for=\"sk-estimator-id-8\" class=\"sk-toggleable__label sk-toggleable__label-arrow\">StandardScaler</label><div class=\"sk-toggleable__content\"><pre>StandardScaler()</pre></div></div></div><div class=\"sk-item\"><div class=\"sk-estimator sk-toggleable\"><input class=\"sk-toggleable__control sk-hidden--visually\" id=\"sk-estimator-id-9\" type=\"checkbox\" ><label for=\"sk-estimator-id-9\" class=\"sk-toggleable__label sk-toggleable__label-arrow\">polynomialTransformer</label><div class=\"sk-toggleable__content\"><pre>&lt;preprocessing.polynomialTransformer object at 0x000001DB74546400&gt;</pre></div></div></div></div></div><div class=\"sk-item\"><div class=\"sk-estimator sk-toggleable\"><input class=\"sk-toggleable__control sk-hidden--visually\" id=\"sk-estimator-id-10\" type=\"checkbox\" ><label for=\"sk-estimator-id-10\" class=\"sk-toggleable__label sk-toggleable__label-arrow\">RidgeCV</label><div class=\"sk-toggleable__content\"><pre>RidgeCV(cv=3)</pre></div></div></div></div></div></div></div></div><div class=\"sk-parallel-item\"><div class=\"sk-item\"><div class=\"sk-label-container\"><div class=\"sk-label sk-toggleable\"><label>knn</label></div></div><div class=\"sk-serial\"><div class=\"sk-item\"><div class=\"sk-serial\"><div class=\"sk-item\"><div class=\"sk-label-container\"><div class=\"sk-label sk-toggleable\"><input class=\"sk-toggleable__control sk-hidden--visually\" id=\"sk-estimator-id-11\" type=\"checkbox\" ><label for=\"sk-estimator-id-11\" class=\"sk-toggleable__label sk-toggleable__label-arrow\">preproc: Pipeline</label><div class=\"sk-toggleable__content\"><pre>Pipeline(steps=[(&#x27;ordinal_date&#x27;,\n",
       "                 &lt;preprocessing.ordinalDateTransformer object at 0x000001DB74546370&gt;),\n",
       "                (&#x27;wind_transform&#x27;,\n",
       "                 &lt;preprocessing.windTransformer object at 0x000001DB745461C0&gt;),\n",
       "                (&#x27;drop_cols&#x27;,\n",
       "                 &lt;preprocessing.columnDropTransformer object at 0x000001DB74546310&gt;),\n",
       "                (&#x27;impute&#x27;, SimpleImputer(strategy=&#x27;median&#x27;)),\n",
       "                (&#x27;logit&#x27;,\n",
       "                 &lt;preprocessing.logTransformer object at 0x000001DB74546820&gt;),\n",
       "                (&#x27;scaling&#x27;, StandardScaler())])</pre></div></div></div><div class=\"sk-serial\"><div class=\"sk-item\"><div class=\"sk-estimator sk-toggleable\"><input class=\"sk-toggleable__control sk-hidden--visually\" id=\"sk-estimator-id-12\" type=\"checkbox\" ><label for=\"sk-estimator-id-12\" class=\"sk-toggleable__label sk-toggleable__label-arrow\">ordinalDateTransformer</label><div class=\"sk-toggleable__content\"><pre>&lt;preprocessing.ordinalDateTransformer object at 0x000001DB74546370&gt;</pre></div></div></div><div class=\"sk-item\"><div class=\"sk-estimator sk-toggleable\"><input class=\"sk-toggleable__control sk-hidden--visually\" id=\"sk-estimator-id-13\" type=\"checkbox\" ><label for=\"sk-estimator-id-13\" class=\"sk-toggleable__label sk-toggleable__label-arrow\">windTransformer</label><div class=\"sk-toggleable__content\"><pre>&lt;preprocessing.windTransformer object at 0x000001DB745461C0&gt;</pre></div></div></div><div class=\"sk-item\"><div class=\"sk-estimator sk-toggleable\"><input class=\"sk-toggleable__control sk-hidden--visually\" id=\"sk-estimator-id-14\" type=\"checkbox\" ><label for=\"sk-estimator-id-14\" class=\"sk-toggleable__label sk-toggleable__label-arrow\">columnDropTransformer</label><div class=\"sk-toggleable__content\"><pre>&lt;preprocessing.columnDropTransformer object at 0x000001DB74546310&gt;</pre></div></div></div><div class=\"sk-item\"><div class=\"sk-estimator sk-toggleable\"><input class=\"sk-toggleable__control sk-hidden--visually\" id=\"sk-estimator-id-15\" type=\"checkbox\" ><label for=\"sk-estimator-id-15\" class=\"sk-toggleable__label sk-toggleable__label-arrow\">SimpleImputer</label><div class=\"sk-toggleable__content\"><pre>SimpleImputer(strategy=&#x27;median&#x27;)</pre></div></div></div><div class=\"sk-item\"><div class=\"sk-estimator sk-toggleable\"><input class=\"sk-toggleable__control sk-hidden--visually\" id=\"sk-estimator-id-16\" type=\"checkbox\" ><label for=\"sk-estimator-id-16\" class=\"sk-toggleable__label sk-toggleable__label-arrow\">logTransformer</label><div class=\"sk-toggleable__content\"><pre>&lt;preprocessing.logTransformer object at 0x000001DB74546820&gt;</pre></div></div></div><div class=\"sk-item\"><div class=\"sk-estimator sk-toggleable\"><input class=\"sk-toggleable__control sk-hidden--visually\" id=\"sk-estimator-id-17\" type=\"checkbox\" ><label for=\"sk-estimator-id-17\" class=\"sk-toggleable__label sk-toggleable__label-arrow\">StandardScaler</label><div class=\"sk-toggleable__content\"><pre>StandardScaler()</pre></div></div></div></div></div><div class=\"sk-item\"><div class=\"sk-estimator sk-toggleable\"><input class=\"sk-toggleable__control sk-hidden--visually\" id=\"sk-estimator-id-18\" type=\"checkbox\" ><label for=\"sk-estimator-id-18\" class=\"sk-toggleable__label sk-toggleable__label-arrow\">KNeighborsRegressor</label><div class=\"sk-toggleable__content\"><pre>KNeighborsRegressor(n_neighbors=10, weights=&#x27;distance&#x27;)</pre></div></div></div></div></div></div></div></div><div class=\"sk-parallel-item\"><div class=\"sk-item\"><div class=\"sk-label-container\"><div class=\"sk-label sk-toggleable\"><label>randF</label></div></div><div class=\"sk-serial\"><div class=\"sk-item\"><div class=\"sk-serial\"><div class=\"sk-item\"><div class=\"sk-label-container\"><div class=\"sk-label sk-toggleable\"><input class=\"sk-toggleable__control sk-hidden--visually\" id=\"sk-estimator-id-19\" type=\"checkbox\" ><label for=\"sk-estimator-id-19\" class=\"sk-toggleable__label sk-toggleable__label-arrow\">preproc: Pipeline</label><div class=\"sk-toggleable__content\"><pre>Pipeline(steps=[(&#x27;ordinal_date&#x27;,\n",
       "                 &lt;preprocessing.ordinalDateTransformer object at 0x000001DB74546370&gt;),\n",
       "                (&#x27;wind_transform&#x27;,\n",
       "                 &lt;preprocessing.windTransformer object at 0x000001DB745461C0&gt;),\n",
       "                (&#x27;drop_cols&#x27;,\n",
       "                 &lt;preprocessing.columnDropTransformer object at 0x000001DB74546310&gt;),\n",
       "                (&#x27;impute&#x27;, SimpleImputer(strategy=&#x27;median&#x27;)),\n",
       "                (&#x27;logit&#x27;,\n",
       "                 &lt;preprocessing.logTransformer object at 0x000001DB74546820&gt;),\n",
       "                (&#x27;scaling&#x27;, StandardScaler())])</pre></div></div></div><div class=\"sk-serial\"><div class=\"sk-item\"><div class=\"sk-estimator sk-toggleable\"><input class=\"sk-toggleable__control sk-hidden--visually\" id=\"sk-estimator-id-20\" type=\"checkbox\" ><label for=\"sk-estimator-id-20\" class=\"sk-toggleable__label sk-toggleable__label-arrow\">ordinalDateTransformer</label><div class=\"sk-toggleable__content\"><pre>&lt;preprocessing.ordinalDateTransformer object at 0x000001DB74546370&gt;</pre></div></div></div><div class=\"sk-item\"><div class=\"sk-estimator sk-toggleable\"><input class=\"sk-toggleable__control sk-hidden--visually\" id=\"sk-estimator-id-21\" type=\"checkbox\" ><label for=\"sk-estimator-id-21\" class=\"sk-toggleable__label sk-toggleable__label-arrow\">windTransformer</label><div class=\"sk-toggleable__content\"><pre>&lt;preprocessing.windTransformer object at 0x000001DB745461C0&gt;</pre></div></div></div><div class=\"sk-item\"><div class=\"sk-estimator sk-toggleable\"><input class=\"sk-toggleable__control sk-hidden--visually\" id=\"sk-estimator-id-22\" type=\"checkbox\" ><label for=\"sk-estimator-id-22\" class=\"sk-toggleable__label sk-toggleable__label-arrow\">columnDropTransformer</label><div class=\"sk-toggleable__content\"><pre>&lt;preprocessing.columnDropTransformer object at 0x000001DB74546310&gt;</pre></div></div></div><div class=\"sk-item\"><div class=\"sk-estimator sk-toggleable\"><input class=\"sk-toggleable__control sk-hidden--visually\" id=\"sk-estimator-id-23\" type=\"checkbox\" ><label for=\"sk-estimator-id-23\" class=\"sk-toggleable__label sk-toggleable__label-arrow\">SimpleImputer</label><div class=\"sk-toggleable__content\"><pre>SimpleImputer(strategy=&#x27;median&#x27;)</pre></div></div></div><div class=\"sk-item\"><div class=\"sk-estimator sk-toggleable\"><input class=\"sk-toggleable__control sk-hidden--visually\" id=\"sk-estimator-id-24\" type=\"checkbox\" ><label for=\"sk-estimator-id-24\" class=\"sk-toggleable__label sk-toggleable__label-arrow\">logTransformer</label><div class=\"sk-toggleable__content\"><pre>&lt;preprocessing.logTransformer object at 0x000001DB74546820&gt;</pre></div></div></div><div class=\"sk-item\"><div class=\"sk-estimator sk-toggleable\"><input class=\"sk-toggleable__control sk-hidden--visually\" id=\"sk-estimator-id-25\" type=\"checkbox\" ><label for=\"sk-estimator-id-25\" class=\"sk-toggleable__label sk-toggleable__label-arrow\">StandardScaler</label><div class=\"sk-toggleable__content\"><pre>StandardScaler()</pre></div></div></div></div></div><div class=\"sk-item\"><div class=\"sk-estimator sk-toggleable\"><input class=\"sk-toggleable__control sk-hidden--visually\" id=\"sk-estimator-id-26\" type=\"checkbox\" ><label for=\"sk-estimator-id-26\" class=\"sk-toggleable__label sk-toggleable__label-arrow\">RandomForestRegressor</label><div class=\"sk-toggleable__content\"><pre>RandomForestRegressor(max_depth=10, n_estimators=200, n_jobs=-1,\n",
       "                      random_state=42)</pre></div></div></div></div></div></div></div></div></div></div><div class=\"sk-item\"><div class=\"sk-parallel\"><div class=\"sk-parallel-item\"><div class=\"sk-item\"><div class=\"sk-label-container\"><div class=\"sk-label sk-toggleable\"><label>final_estimator</label></div></div><div class=\"sk-serial\"><div class=\"sk-item\"><div class=\"sk-estimator sk-toggleable\"><input class=\"sk-toggleable__control sk-hidden--visually\" id=\"sk-estimator-id-27\" type=\"checkbox\" ><label for=\"sk-estimator-id-27\" class=\"sk-toggleable__label sk-toggleable__label-arrow\">RandomForestRegressor</label><div class=\"sk-toggleable__content\"><pre>RandomForestRegressor(max_depth=3, n_estimators=20, n_jobs=-1, random_state=42)</pre></div></div></div></div></div></div></div></div></div></div></div></div>"
      ],
      "text/plain": [
       "StackingRegressor(cv=5,\n",
       "                  estimators=[('rid',\n",
       "                               Pipeline(steps=[('preproc',\n",
       "                                                Pipeline(steps=[('ordinal_date',\n",
       "                                                                 <preprocessing.ordinalDateTransformer object at 0x000001DB745469A0>),\n",
       "                                                                ('wind_transform',\n",
       "                                                                 <preprocessing.windTransformer object at 0x000001DB74546340>),\n",
       "                                                                ('drop_cols',\n",
       "                                                                 <preprocessing.columnDropTransformer object at 0x000001DB74546CD0>),\n",
       "                                                                ('impute',\n",
       "                                                                 SimpleImputer(stra...\n",
       "                                                                 <preprocessing.columnDropTransformer object at 0x000001DB74546310>),\n",
       "                                                                ('impute',\n",
       "                                                                 SimpleImputer(strategy='median')),\n",
       "                                                                ('logit',\n",
       "                                                                 <preprocessing.logTransformer object at 0x000001DB74546820>),\n",
       "                                                                ('scaling',\n",
       "                                                                 StandardScaler())])),\n",
       "                                               ('randF',\n",
       "                                                RandomForestRegressor(max_depth=10,\n",
       "                                                                      n_estimators=200,\n",
       "                                                                      n_jobs=-1,\n",
       "                                                                      random_state=42))]))],\n",
       "                  final_estimator=RandomForestRegressor(max_depth=3,\n",
       "                                                        n_estimators=20,\n",
       "                                                        n_jobs=-1,\n",
       "                                                        random_state=42),\n",
       "                  n_jobs=-1)"
      ]
     },
     "execution_count": 14,
     "metadata": {},
     "output_type": "execute_result"
    }
   ],
   "source": [
    "sr.fit(X_train, y_train)"
   ]
  },
  {
   "cell_type": "markdown",
   "metadata": {},
   "source": [
    "asses performance of stacked regressor"
   ]
  },
  {
   "cell_type": "code",
   "execution_count": 15,
   "metadata": {},
   "outputs": [
    {
     "name": "stdout",
     "output_type": "stream",
     "text": [
      "Train RMSE:  17.56632812088446\n",
      "Train R^2:  0.8604582911941985\n",
      "Test RMSE:  31.407958217872654\n",
      "Test R^2:  0.5432493521400481\n"
     ]
    }
   ],
   "source": [
    "y_pred_train = sr.predict(X_train)\n",
    "y_pred = sr.predict(X_test)\n",
    "\n",
    "print(\"Train RMSE: \", mean_squared_error(y_train, y_pred_train, squared=False))\n",
    "print(\"Train R^2: \", r2_score(y_train, y_pred_train))\n",
    "print(\"Test RMSE: \", mean_squared_error(y_test, y_pred, squared=False))\n",
    "print(\"Test R^2: \", r2_score(y_test, y_pred)) # 31.2285 with n=100, cv=3, depth=4"
   ]
  },
  {
   "cell_type": "markdown",
   "metadata": {},
   "source": [
    "plot prediction vs test data"
   ]
  },
  {
   "cell_type": "code",
   "execution_count": 16,
   "metadata": {},
   "outputs": [
    {
     "data": {
      "text/plain": [
       "[<matplotlib.lines.Line2D at 0x1db04e8d970>]"
      ]
     },
     "execution_count": 16,
     "metadata": {},
     "output_type": "execute_result"
    },
    {
     "data": {
      "image/png": "[encoded data removed]",
      "text/plain": [
       "<Figure size 640x480 with 1 Axes>"
      ]
     },
     "metadata": {},
     "output_type": "display_data"
    }
   ],
   "source": [
    "fig, ax = plt.subplots(1,1)\n",
    "sns.scatterplot(x=y_pred, y=y_test, ax=ax)\n",
    "mini = min([min(y_pred), min(y_test)])\n",
    "maxi = max([max(y_pred), max(y_test)])\n",
    "ax.plot(np.linspace(mini, maxi, 2), np.linspace(mini, maxi, 2), 'k--', alpha=0.65)"
   ]
  },
  {
   "cell_type": "code",
   "execution_count": 17,
   "metadata": {},
   "outputs": [
    {
     "data": {
      "text/html": [
       "<div>\n",
       "<style scoped>\n",
       "    .dataframe tbody tr th:only-of-type {\n",
       "        vertical-align: middle;\n",
       "    }\n",
       "\n",
       "    .dataframe tbody tr th {\n",
       "        vertical-align: top;\n",
       "    }\n",
       "\n",
       "    .dataframe thead th {\n",
       "        text-align: right;\n",
       "    }\n",
       "</style>\n",
       "<table border=\"1\" class=\"dataframe\">\n",
       "  <thead>\n",
       "    <tr style=\"text-align: right;\">\n",
       "      <th></th>\n",
       "      <th>y_pred</th>\n",
       "      <th>y_test</th>\n",
       "    </tr>\n",
       "  </thead>\n",
       "  <tbody>\n",
       "    <tr>\n",
       "      <th>24141</th>\n",
       "      <td>62.660871</td>\n",
       "      <td>79.0</td>\n",
       "    </tr>\n",
       "    <tr>\n",
       "      <th>26865</th>\n",
       "      <td>126.372358</td>\n",
       "      <td>129.0</td>\n",
       "    </tr>\n",
       "    <tr>\n",
       "      <th>22772</th>\n",
       "      <td>44.530328</td>\n",
       "      <td>72.0</td>\n",
       "    </tr>\n",
       "    <tr>\n",
       "      <th>25624</th>\n",
       "      <td>85.826754</td>\n",
       "      <td>34.0</td>\n",
       "    </tr>\n",
       "    <tr>\n",
       "      <th>21690</th>\n",
       "      <td>71.038106</td>\n",
       "      <td>61.0</td>\n",
       "    </tr>\n",
       "    <tr>\n",
       "      <th>...</th>\n",
       "      <td>...</td>\n",
       "      <td>...</td>\n",
       "    </tr>\n",
       "    <tr>\n",
       "      <th>7201</th>\n",
       "      <td>28.661779</td>\n",
       "      <td>17.0</td>\n",
       "    </tr>\n",
       "    <tr>\n",
       "      <th>19407</th>\n",
       "      <td>28.661779</td>\n",
       "      <td>25.0</td>\n",
       "    </tr>\n",
       "    <tr>\n",
       "      <th>19609</th>\n",
       "      <td>61.769886</td>\n",
       "      <td>63.0</td>\n",
       "    </tr>\n",
       "    <tr>\n",
       "      <th>26644</th>\n",
       "      <td>28.661779</td>\n",
       "      <td>34.0</td>\n",
       "    </tr>\n",
       "    <tr>\n",
       "      <th>59</th>\n",
       "      <td>56.167217</td>\n",
       "      <td>44.0</td>\n",
       "    </tr>\n",
       "  </tbody>\n",
       "</table>\n",
       "<p>9168 rows × 2 columns</p>\n",
       "</div>"
      ],
      "text/plain": [
       "           y_pred  y_test\n",
       "24141   62.660871    79.0\n",
       "26865  126.372358   129.0\n",
       "22772   44.530328    72.0\n",
       "25624   85.826754    34.0\n",
       "21690   71.038106    61.0\n",
       "...           ...     ...\n",
       "7201    28.661779    17.0\n",
       "19407   28.661779    25.0\n",
       "19609   61.769886    63.0\n",
       "26644   28.661779    34.0\n",
       "59      56.167217    44.0\n",
       "\n",
       "[9168 rows x 2 columns]"
      ]
     },
     "execution_count": 17,
     "metadata": {},
     "output_type": "execute_result"
    }
   ],
   "source": [
    "df_res = pd.DataFrame({\"y_pred\": y_pred, \"y_test\": y_test})\n",
    "df_res"
   ]
  }
 ],
 "metadata": {
  "kernelspec": {
   "display_name": "base",
   "language": "python",
   "name": "python3"
  },
  "language_info": {
   "codemirror_mode": {
    "name": "ipython",
    "version": 3
   },
   "file_extension": ".py",
   "mimetype": "text/x-python",
   "name": "python",
   "nbconvert_exporter": "python",
   "pygments_lexer": "ipython3",
   "version": "3.9.17"
  },
  "orig_nbformat": 4
 },
 "nbformat": 4,
 "nbformat_minor": 2
}
